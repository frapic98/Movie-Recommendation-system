{
  "cells": [
    {
      "cell_type": "markdown",
      "metadata": {
        "id": "SCu_p_Eu4rZB"
      },
      "source": [
        "# **Sistema di raccomandazioni di film**"
      ]
    },
    {
      "cell_type": "markdown",
      "metadata": {
        "id": "cScS3t1a5Uvg"
      },
      "source": [
        "Laurea Magistrale in Informatica - Alma Mater Studiorum, **Università di Bologna**"
      ]
    },
    {
      "cell_type": "markdown",
      "metadata": {
        "id": "LlzqDxKJ5YFW"
      },
      "source": [
        "Nome del gruppo: AHI-AHI-AHI\n",
        "Indirizzo e-mail del referente: aurora.brega@studio.unibo.it\n",
        "Componenti:\n",
        "*   Francesco Saverio Beccafichi (matr: 0001052139)\n",
        "*   Aurora Brega (matr: 0001046055)\n",
        "*   Francesco Piconi (matr: 0001054500)"
      ]
    },
    {
      "cell_type": "markdown",
      "metadata": {
        "id": "5fo7-eFj7Njc"
      },
      "source": [
        "**INSTALLAZIONE DELLE LIBRERIE NECESSARIE**"
      ]
    },
    {
      "cell_type": "code",
      "execution_count": 1,
      "metadata": {
        "colab": {
          "base_uri": "https://localhost:8080/"
        },
        "id": "PTQHiLAPW8TP",
        "outputId": "4eeb4db2-9ca8-4386-a322-ae20f8a51b4f"
      },
      "outputs": [],
      "source": [
        "#from google.colab import drive\n",
        "#drive.mount('/content/drive')"
      ]
    },
    {
      "cell_type": "code",
      "execution_count": null,
      "metadata": {
        "colab": {
          "base_uri": "https://localhost:8080/"
        },
        "id": "Jlk0R8WLrsQh",
        "outputId": "de85a4f1-d550-4525-c71a-a043307a70cb"
      },
      "outputs": [],
      "source": [
        "pip install surprise numpy pandas matplotlib nltk sklearn \n"
      ]
    },
    {
      "cell_type": "markdown",
      "metadata": {
        "id": "WQEPGQ_v7piA"
      },
      "source": [
        "**IMPORT DELLE LIBRERIE NECESSARIE**"
      ]
    },
    {
      "cell_type": "code",
      "execution_count": 3,
      "metadata": {
        "id": "Hc7TOviyrApq"
      },
      "outputs": [],
      "source": [
        "import numpy as np\n",
        "import pandas as pd\n",
        "import matplotlib.pyplot as plt\n",
        "import difflib\n",
        "\n",
        "from nltk.stem.snowball import SnowballStemmer\n",
        "from nltk.stem.wordnet import WordNetLemmatizer\n",
        "from nltk.corpus import wordnet\n",
        "from ast import literal_eval\n",
        "from surprise import SVD,accuracy, Reader, Dataset,SVDpp\n",
        "from surprise.model_selection import train_test_split,GridSearchCV\n",
        "from surprise.model_selection import cross_validate,KFold\n",
        "from sklearn.feature_extraction.text import TfidfVectorizer,CountVectorizer\n",
        "from sklearn.metrics.pairwise import cosine_similarity\n",
        "from sklearn.metrics.pairwise import linear_kernel\n",
        "from collections import defaultdict\n"
      ]
    },
    {
      "cell_type": "code",
      "execution_count": 5,
      "metadata": {
        "id": "KRldTGkWa-cW"
      },
      "outputs": [],
      "source": [
        "pd.options.mode.chained_assignment = None  # default='warn'"
      ]
    },
    {
      "cell_type": "markdown",
      "metadata": {
        "id": "t8_Lzmhq71tD"
      },
      "source": [
        "**IMPORT DEL DATASET**"
      ]
    },
    {
      "cell_type": "code",
      "execution_count": null,
      "metadata": {
        "colab": {
          "base_uri": "https://localhost:8080/"
        },
        "id": "WHkNMfBkM5hf",
        "outputId": "96115278-823b-44e4-afff-f5ec11c5fb07"
      },
      "outputs": [],
      "source": [
        "film=pd.read_csv('archive/movies_metadata.csv')\n",
        "links_small = pd.read_csv('archive/links_small.csv')\n",
        "credits = pd.read_csv('archive/credits.csv')\n",
        "keywords = pd.read_csv('archive/keywords.csv')\n",
        "ratings = pd.read_csv('archive/ratings_small.csv')"
      ]
    },
    {
      "cell_type": "markdown",
      "metadata": {
        "id": "kRWlhRc4WmE7"
      },
      "source": [
        "**Estrazione dei generi e l'anno di produzione dal dataset**"
      ]
    },
    {
      "cell_type": "code",
      "execution_count": 6,
      "metadata": {
        "id": "4Y28kK62_sQk"
      },
      "outputs": [],
      "source": [
        "film['genres'] = film['genres'].fillna('[]').apply(literal_eval).apply(lambda x: [i['name'] for i in x] if isinstance(x, list) else [])"
      ]
    },
    {
      "cell_type": "code",
      "execution_count": 7,
      "metadata": {
        "id": "ZKMyhiF5IKqg"
      },
      "outputs": [],
      "source": [
        "film['year'] = pd.to_datetime(film['release_date'], errors='coerce').apply(lambda x: str(x).split('-')[0] if x != np.nan else np.nan)"
      ]
    },
    {
      "cell_type": "markdown",
      "metadata": {
        "id": "1fxNbHcjL7Ve"
      },
      "source": [
        "# **Sistema basato sulla popolarità**"
      ]
    },
    {
      "cell_type": "code",
      "execution_count": 8,
      "metadata": {
        "colab": {
          "base_uri": "https://localhost:8080/"
        },
        "id": "l6weYVzrIEi-",
        "outputId": "d27bb197-e195-4bed-9135-e531b8088f00"
      },
      "outputs": [
        {
          "data": {
            "text/plain": [
              "5.244896612406511"
            ]
          },
          "execution_count": 8,
          "metadata": {},
          "output_type": "execute_result"
        }
      ],
      "source": [
        "num_voti = film[film['vote_count'].notnull()]['vote_count'].astype('int')\n",
        "media_voto = film[film['vote_average'].notnull()]['vote_average'].astype('int')\n",
        "C = media_voto.mean()\n",
        "C"
      ]
    },
    {
      "cell_type": "code",
      "execution_count": 9,
      "metadata": {
        "colab": {
          "base_uri": "https://localhost:8080/"
        },
        "id": "NijSQP1UIO1z",
        "outputId": "a65e7e69-476f-464a-85b2-e85a549a9917"
      },
      "outputs": [
        {
          "data": {
            "text/plain": [
              "434.0"
            ]
          },
          "execution_count": 9,
          "metadata": {},
          "output_type": "execute_result"
        }
      ],
      "source": [
        "m = num_voti.quantile(0.95)\n",
        "m"
      ]
    },
    {
      "cell_type": "code",
      "execution_count": 10,
      "metadata": {
        "colab": {
          "base_uri": "https://localhost:8080/",
          "height": 424
        },
        "id": "3_2SEdBBIUC1",
        "outputId": "629cf18a-2565-4a25-b382-0c6fed902d4b"
      },
      "outputs": [
        {
          "data": {
            "text/html": [
              "<div>\n",
              "<style scoped>\n",
              "    .dataframe tbody tr th:only-of-type {\n",
              "        vertical-align: middle;\n",
              "    }\n",
              "\n",
              "    .dataframe tbody tr th {\n",
              "        vertical-align: top;\n",
              "    }\n",
              "\n",
              "    .dataframe thead th {\n",
              "        text-align: right;\n",
              "    }\n",
              "</style>\n",
              "<table border=\"1\" class=\"dataframe\">\n",
              "  <thead>\n",
              "    <tr style=\"text-align: right;\">\n",
              "      <th></th>\n",
              "      <th>title</th>\n",
              "      <th>year</th>\n",
              "      <th>vote_count</th>\n",
              "      <th>vote_average</th>\n",
              "      <th>popularity</th>\n",
              "      <th>genres</th>\n",
              "    </tr>\n",
              "  </thead>\n",
              "  <tbody>\n",
              "    <tr>\n",
              "      <th>0</th>\n",
              "      <td>Toy Story</td>\n",
              "      <td>1995</td>\n",
              "      <td>5415</td>\n",
              "      <td>7</td>\n",
              "      <td>21.946943</td>\n",
              "      <td>[Animation, Comedy, Family]</td>\n",
              "    </tr>\n",
              "    <tr>\n",
              "      <th>1</th>\n",
              "      <td>Jumanji</td>\n",
              "      <td>1995</td>\n",
              "      <td>2413</td>\n",
              "      <td>6</td>\n",
              "      <td>17.015539</td>\n",
              "      <td>[Adventure, Fantasy, Family]</td>\n",
              "    </tr>\n",
              "    <tr>\n",
              "      <th>5</th>\n",
              "      <td>Heat</td>\n",
              "      <td>1995</td>\n",
              "      <td>1886</td>\n",
              "      <td>7</td>\n",
              "      <td>17.924927</td>\n",
              "      <td>[Action, Crime, Drama, Thriller]</td>\n",
              "    </tr>\n",
              "    <tr>\n",
              "      <th>9</th>\n",
              "      <td>GoldenEye</td>\n",
              "      <td>1995</td>\n",
              "      <td>1194</td>\n",
              "      <td>6</td>\n",
              "      <td>14.686036</td>\n",
              "      <td>[Adventure, Action, Thriller]</td>\n",
              "    </tr>\n",
              "    <tr>\n",
              "      <th>15</th>\n",
              "      <td>Casino</td>\n",
              "      <td>1995</td>\n",
              "      <td>1343</td>\n",
              "      <td>7</td>\n",
              "      <td>10.137389</td>\n",
              "      <td>[Drama, Crime]</td>\n",
              "    </tr>\n",
              "    <tr>\n",
              "      <th>...</th>\n",
              "      <td>...</td>\n",
              "      <td>...</td>\n",
              "      <td>...</td>\n",
              "      <td>...</td>\n",
              "      <td>...</td>\n",
              "      <td>...</td>\n",
              "    </tr>\n",
              "    <tr>\n",
              "      <th>44624</th>\n",
              "      <td>What Happened to Monday</td>\n",
              "      <td>2017</td>\n",
              "      <td>598</td>\n",
              "      <td>7</td>\n",
              "      <td>60.581223</td>\n",
              "      <td>[Science Fiction, Thriller]</td>\n",
              "    </tr>\n",
              "    <tr>\n",
              "      <th>44632</th>\n",
              "      <td>Atomic Blonde</td>\n",
              "      <td>2017</td>\n",
              "      <td>748</td>\n",
              "      <td>6</td>\n",
              "      <td>14.455104</td>\n",
              "      <td>[Action, Thriller]</td>\n",
              "    </tr>\n",
              "    <tr>\n",
              "      <th>44678</th>\n",
              "      <td>Dunkirk</td>\n",
              "      <td>2017</td>\n",
              "      <td>2712</td>\n",
              "      <td>7</td>\n",
              "      <td>30.938854</td>\n",
              "      <td>[Action, Drama, History, Thriller, War]</td>\n",
              "    </tr>\n",
              "    <tr>\n",
              "      <th>44842</th>\n",
              "      <td>Transformers: The Last Knight</td>\n",
              "      <td>2017</td>\n",
              "      <td>1440</td>\n",
              "      <td>6</td>\n",
              "      <td>39.186819</td>\n",
              "      <td>[Action, Science Fiction, Thriller, Adventure]</td>\n",
              "    </tr>\n",
              "    <tr>\n",
              "      <th>45014</th>\n",
              "      <td>The Dark Tower</td>\n",
              "      <td>2017</td>\n",
              "      <td>688</td>\n",
              "      <td>5</td>\n",
              "      <td>50.903593</td>\n",
              "      <td>[Action, Western, Science Fiction, Fantasy, Ho...</td>\n",
              "    </tr>\n",
              "  </tbody>\n",
              "</table>\n",
              "<p>2274 rows × 6 columns</p>\n",
              "</div>"
            ],
            "text/plain": [
              "                               title  year  vote_count  vote_average  \\\n",
              "0                          Toy Story  1995        5415             7   \n",
              "1                            Jumanji  1995        2413             6   \n",
              "5                               Heat  1995        1886             7   \n",
              "9                          GoldenEye  1995        1194             6   \n",
              "15                            Casino  1995        1343             7   \n",
              "...                              ...   ...         ...           ...   \n",
              "44624        What Happened to Monday  2017         598             7   \n",
              "44632                  Atomic Blonde  2017         748             6   \n",
              "44678                        Dunkirk  2017        2712             7   \n",
              "44842  Transformers: The Last Knight  2017        1440             6   \n",
              "45014                 The Dark Tower  2017         688             5   \n",
              "\n",
              "      popularity                                             genres  \n",
              "0      21.946943                        [Animation, Comedy, Family]  \n",
              "1      17.015539                       [Adventure, Fantasy, Family]  \n",
              "5      17.924927                   [Action, Crime, Drama, Thriller]  \n",
              "9      14.686036                      [Adventure, Action, Thriller]  \n",
              "15     10.137389                                     [Drama, Crime]  \n",
              "...          ...                                                ...  \n",
              "44624  60.581223                        [Science Fiction, Thriller]  \n",
              "44632  14.455104                                 [Action, Thriller]  \n",
              "44678  30.938854            [Action, Drama, History, Thriller, War]  \n",
              "44842  39.186819     [Action, Science Fiction, Thriller, Adventure]  \n",
              "45014  50.903593  [Action, Western, Science Fiction, Fantasy, Ho...  \n",
              "\n",
              "[2274 rows x 6 columns]"
            ]
          },
          "execution_count": 10,
          "metadata": {},
          "output_type": "execute_result"
        }
      ],
      "source": [
        "film_popolari = film[(film['vote_count'] >= m) & (film['vote_count'].notnull()) & (film['vote_average'].notnull())][['title', 'year', 'vote_count', 'vote_average', 'popularity', 'genres']]\n",
        "film_popolari['vote_count'] = film_popolari['vote_count'].astype('int')\n",
        "film_popolari['vote_average'] = film_popolari['vote_average'].astype('int')\n",
        "film_popolari.shape\n",
        "film_popolari"
      ]
    },
    {
      "cell_type": "markdown",
      "metadata": {
        "id": "gYbTSbjQeiL5"
      },
      "source": [
        "**Calcolo del weighted rating per ordinare i film in base al voto medio**"
      ]
    },
    {
      "cell_type": "code",
      "execution_count": 11,
      "metadata": {
        "id": "f4jy75ldIacB"
      },
      "outputs": [],
      "source": [
        "def weighted_rating(x):\n",
        "    v = x['vote_count']\n",
        "    R = x['vote_average']\n",
        "    return (v/(v+m) * R) + (m/(m+v) * C)"
      ]
    },
    {
      "cell_type": "code",
      "execution_count": 12,
      "metadata": {
        "id": "fRxtal3RId0X"
      },
      "outputs": [],
      "source": [
        "film_popolari['wr'] = film_popolari.apply(weighted_rating, axis=1)"
      ]
    },
    {
      "cell_type": "code",
      "execution_count": 13,
      "metadata": {
        "id": "YwpzqAa5IhjI"
      },
      "outputs": [],
      "source": [
        "film_popolari = film_popolari.sort_values('wr', ascending=False).head(250)"
      ]
    },
    {
      "cell_type": "code",
      "execution_count": 14,
      "metadata": {
        "colab": {
          "base_uri": "https://localhost:8080/",
          "height": 520
        },
        "id": "2YnsNOV-Ii5Z",
        "outputId": "f0553f8f-3a7e-4ea1-c14a-3617e296695f"
      },
      "outputs": [
        {
          "data": {
            "text/html": [
              "<div>\n",
              "<style scoped>\n",
              "    .dataframe tbody tr th:only-of-type {\n",
              "        vertical-align: middle;\n",
              "    }\n",
              "\n",
              "    .dataframe tbody tr th {\n",
              "        vertical-align: top;\n",
              "    }\n",
              "\n",
              "    .dataframe thead th {\n",
              "        text-align: right;\n",
              "    }\n",
              "</style>\n",
              "<table border=\"1\" class=\"dataframe\">\n",
              "  <thead>\n",
              "    <tr style=\"text-align: right;\">\n",
              "      <th></th>\n",
              "      <th>title</th>\n",
              "      <th>year</th>\n",
              "      <th>vote_count</th>\n",
              "      <th>vote_average</th>\n",
              "      <th>popularity</th>\n",
              "      <th>genres</th>\n",
              "      <th>wr</th>\n",
              "    </tr>\n",
              "  </thead>\n",
              "  <tbody>\n",
              "    <tr>\n",
              "      <th>15480</th>\n",
              "      <td>Inception</td>\n",
              "      <td>2010</td>\n",
              "      <td>14075</td>\n",
              "      <td>8</td>\n",
              "      <td>29.108149</td>\n",
              "      <td>[Action, Thriller, Science Fiction, Mystery, A...</td>\n",
              "      <td>7.917588</td>\n",
              "    </tr>\n",
              "    <tr>\n",
              "      <th>12481</th>\n",
              "      <td>The Dark Knight</td>\n",
              "      <td>2008</td>\n",
              "      <td>12269</td>\n",
              "      <td>8</td>\n",
              "      <td>123.167259</td>\n",
              "      <td>[Drama, Action, Crime, Thriller]</td>\n",
              "      <td>7.905871</td>\n",
              "    </tr>\n",
              "    <tr>\n",
              "      <th>22879</th>\n",
              "      <td>Interstellar</td>\n",
              "      <td>2014</td>\n",
              "      <td>11187</td>\n",
              "      <td>8</td>\n",
              "      <td>32.213481</td>\n",
              "      <td>[Adventure, Drama, Science Fiction]</td>\n",
              "      <td>7.897107</td>\n",
              "    </tr>\n",
              "    <tr>\n",
              "      <th>2843</th>\n",
              "      <td>Fight Club</td>\n",
              "      <td>1999</td>\n",
              "      <td>9678</td>\n",
              "      <td>8</td>\n",
              "      <td>63.869599</td>\n",
              "      <td>[Drama]</td>\n",
              "      <td>7.881753</td>\n",
              "    </tr>\n",
              "    <tr>\n",
              "      <th>4863</th>\n",
              "      <td>The Lord of the Rings: The Fellowship of the Ring</td>\n",
              "      <td>2001</td>\n",
              "      <td>8892</td>\n",
              "      <td>8</td>\n",
              "      <td>32.070725</td>\n",
              "      <td>[Adventure, Fantasy, Action]</td>\n",
              "      <td>7.871787</td>\n",
              "    </tr>\n",
              "    <tr>\n",
              "      <th>292</th>\n",
              "      <td>Pulp Fiction</td>\n",
              "      <td>1994</td>\n",
              "      <td>8670</td>\n",
              "      <td>8</td>\n",
              "      <td>140.950236</td>\n",
              "      <td>[Thriller, Crime]</td>\n",
              "      <td>7.868660</td>\n",
              "    </tr>\n",
              "    <tr>\n",
              "      <th>314</th>\n",
              "      <td>The Shawshank Redemption</td>\n",
              "      <td>1994</td>\n",
              "      <td>8358</td>\n",
              "      <td>8</td>\n",
              "      <td>51.645403</td>\n",
              "      <td>[Drama, Crime]</td>\n",
              "      <td>7.864000</td>\n",
              "    </tr>\n",
              "    <tr>\n",
              "      <th>7000</th>\n",
              "      <td>The Lord of the Rings: The Return of the King</td>\n",
              "      <td>2003</td>\n",
              "      <td>8226</td>\n",
              "      <td>8</td>\n",
              "      <td>29.324358</td>\n",
              "      <td>[Adventure, Fantasy, Action]</td>\n",
              "      <td>7.861927</td>\n",
              "    </tr>\n",
              "    <tr>\n",
              "      <th>351</th>\n",
              "      <td>Forrest Gump</td>\n",
              "      <td>1994</td>\n",
              "      <td>8147</td>\n",
              "      <td>8</td>\n",
              "      <td>48.307194</td>\n",
              "      <td>[Comedy, Drama, Romance]</td>\n",
              "      <td>7.860656</td>\n",
              "    </tr>\n",
              "    <tr>\n",
              "      <th>5814</th>\n",
              "      <td>The Lord of the Rings: The Two Towers</td>\n",
              "      <td>2002</td>\n",
              "      <td>7641</td>\n",
              "      <td>8</td>\n",
              "      <td>29.423537</td>\n",
              "      <td>[Adventure, Fantasy, Action]</td>\n",
              "      <td>7.851924</td>\n",
              "    </tr>\n",
              "    <tr>\n",
              "      <th>256</th>\n",
              "      <td>Star Wars</td>\n",
              "      <td>1977</td>\n",
              "      <td>6778</td>\n",
              "      <td>8</td>\n",
              "      <td>42.149697</td>\n",
              "      <td>[Adventure, Action, Science Fiction]</td>\n",
              "      <td>7.834205</td>\n",
              "    </tr>\n",
              "    <tr>\n",
              "      <th>1225</th>\n",
              "      <td>Back to the Future</td>\n",
              "      <td>1985</td>\n",
              "      <td>6239</td>\n",
              "      <td>8</td>\n",
              "      <td>25.778509</td>\n",
              "      <td>[Adventure, Comedy, Science Fiction, Family]</td>\n",
              "      <td>7.820813</td>\n",
              "    </tr>\n",
              "    <tr>\n",
              "      <th>834</th>\n",
              "      <td>The Godfather</td>\n",
              "      <td>1972</td>\n",
              "      <td>6024</td>\n",
              "      <td>8</td>\n",
              "      <td>41.109264</td>\n",
              "      <td>[Drama, Crime]</td>\n",
              "      <td>7.814847</td>\n",
              "    </tr>\n",
              "    <tr>\n",
              "      <th>1154</th>\n",
              "      <td>The Empire Strikes Back</td>\n",
              "      <td>1980</td>\n",
              "      <td>5998</td>\n",
              "      <td>8</td>\n",
              "      <td>19.470959</td>\n",
              "      <td>[Adventure, Action, Science Fiction]</td>\n",
              "      <td>7.814099</td>\n",
              "    </tr>\n",
              "    <tr>\n",
              "      <th>46</th>\n",
              "      <td>Se7en</td>\n",
              "      <td>1995</td>\n",
              "      <td>5915</td>\n",
              "      <td>8</td>\n",
              "      <td>18.45743</td>\n",
              "      <td>[Crime, Mystery, Thriller]</td>\n",
              "      <td>7.811669</td>\n",
              "    </tr>\n",
              "  </tbody>\n",
              "</table>\n",
              "</div>"
            ],
            "text/plain": [
              "                                                   title  year  vote_count  \\\n",
              "15480                                          Inception  2010       14075   \n",
              "12481                                    The Dark Knight  2008       12269   \n",
              "22879                                       Interstellar  2014       11187   \n",
              "2843                                          Fight Club  1999        9678   \n",
              "4863   The Lord of the Rings: The Fellowship of the Ring  2001        8892   \n",
              "292                                         Pulp Fiction  1994        8670   \n",
              "314                             The Shawshank Redemption  1994        8358   \n",
              "7000       The Lord of the Rings: The Return of the King  2003        8226   \n",
              "351                                         Forrest Gump  1994        8147   \n",
              "5814               The Lord of the Rings: The Two Towers  2002        7641   \n",
              "256                                            Star Wars  1977        6778   \n",
              "1225                                  Back to the Future  1985        6239   \n",
              "834                                        The Godfather  1972        6024   \n",
              "1154                             The Empire Strikes Back  1980        5998   \n",
              "46                                                 Se7en  1995        5915   \n",
              "\n",
              "       vote_average  popularity  \\\n",
              "15480             8   29.108149   \n",
              "12481             8  123.167259   \n",
              "22879             8   32.213481   \n",
              "2843              8   63.869599   \n",
              "4863              8   32.070725   \n",
              "292               8  140.950236   \n",
              "314               8   51.645403   \n",
              "7000              8   29.324358   \n",
              "351               8   48.307194   \n",
              "5814              8   29.423537   \n",
              "256               8   42.149697   \n",
              "1225              8   25.778509   \n",
              "834               8   41.109264   \n",
              "1154              8   19.470959   \n",
              "46                8    18.45743   \n",
              "\n",
              "                                                  genres        wr  \n",
              "15480  [Action, Thriller, Science Fiction, Mystery, A...  7.917588  \n",
              "12481                   [Drama, Action, Crime, Thriller]  7.905871  \n",
              "22879                [Adventure, Drama, Science Fiction]  7.897107  \n",
              "2843                                             [Drama]  7.881753  \n",
              "4863                        [Adventure, Fantasy, Action]  7.871787  \n",
              "292                                    [Thriller, Crime]  7.868660  \n",
              "314                                       [Drama, Crime]  7.864000  \n",
              "7000                        [Adventure, Fantasy, Action]  7.861927  \n",
              "351                             [Comedy, Drama, Romance]  7.860656  \n",
              "5814                        [Adventure, Fantasy, Action]  7.851924  \n",
              "256                 [Adventure, Action, Science Fiction]  7.834205  \n",
              "1225        [Adventure, Comedy, Science Fiction, Family]  7.820813  \n",
              "834                                       [Drama, Crime]  7.814847  \n",
              "1154                [Adventure, Action, Science Fiction]  7.814099  \n",
              "46                            [Crime, Mystery, Thriller]  7.811669  "
            ]
          },
          "execution_count": 14,
          "metadata": {},
          "output_type": "execute_result"
        }
      ],
      "source": [
        "film_popolari.head(15)"
      ]
    },
    {
      "cell_type": "markdown",
      "metadata": {
        "id": "hCBEfSKpMqia"
      },
      "source": [
        "# **Sistema basato sulla similarità dei contenuti**\n",
        "Vengono estratti i valori del genere, degi attori, del regista, e delle parole chiave che descrivono il film, per calcolare la similarità cosenica con gli altri film della collezione"
      ]
    },
    {
      "cell_type": "code",
      "execution_count": 15,
      "metadata": {
        "id": "-1boi04YMz2H"
      },
      "outputs": [],
      "source": [
        "links_small = links_small[links_small['tmdbId'].notnull()]['tmdbId'].astype('int')\n",
        "links_small\n",
        "links_small.index = np.arange(1,len(links_small)+1)"
      ]
    },
    {
      "cell_type": "code",
      "execution_count": 16,
      "metadata": {
        "id": "-ulS6fOhNLNH"
      },
      "outputs": [],
      "source": [
        "def convert_int(x):\n",
        "    try:\n",
        "        return int(x)\n",
        "    except:\n",
        "        return np.nan"
      ]
    },
    {
      "cell_type": "code",
      "execution_count": 17,
      "metadata": {
        "id": "YBO6iX20NOIZ"
      },
      "outputs": [],
      "source": [
        "film['id'] = film['id'].apply(convert_int)\n",
        "film.dropna(subset=['id'],inplace=True)"
      ]
    },
    {
      "cell_type": "code",
      "execution_count": 18,
      "metadata": {
        "id": "4lq_v4O1NdQm"
      },
      "outputs": [],
      "source": [
        "film['id'] = film['id'].astype('int')"
      ]
    },
    {
      "cell_type": "code",
      "execution_count": 19,
      "metadata": {
        "colab": {
          "base_uri": "https://localhost:8080/"
        },
        "id": "Tf2JcFrrNiFa",
        "outputId": "d03f976f-4206-4bb0-b848-ceaff375f41b"
      },
      "outputs": [
        {
          "data": {
            "text/plain": [
              "(9082, 25)"
            ]
          },
          "execution_count": 19,
          "metadata": {},
          "output_type": "execute_result"
        }
      ],
      "source": [
        "film_meta = film[film['id'].isin(links_small)]\n",
        "film_meta.shape\n",
        "film_meta.drop_duplicates(subset=['id'], keep='first', inplace=True)\n",
        "film_meta.shape"
      ]
    },
    {
      "cell_type": "code",
      "execution_count": 20,
      "metadata": {
        "id": "fkpMjZgVUy1v"
      },
      "outputs": [],
      "source": [
        "keywords['id'] = keywords['id'].astype('int')\n",
        "credits['id'] = credits['id'].astype('int')\n",
        "film['id'] = film['id'].astype('int')"
      ]
    },
    {
      "cell_type": "code",
      "execution_count": 21,
      "metadata": {
        "id": "tPwkgv7yVE8M"
      },
      "outputs": [],
      "source": [
        "#merge dei film con le informazioni riguardo il cast e le keyword che lo descrivono\n",
        "film = film.merge(credits, on='id')\n",
        "film = film.merge(keywords, on='id')"
      ]
    },
    {
      "cell_type": "code",
      "execution_count": 22,
      "metadata": {
        "colab": {
          "base_uri": "https://localhost:8080/",
          "height": 1000
        },
        "id": "GzXVfj9vVK7J",
        "outputId": "64550fff-a7c1-4b85-b24b-9cda3a38033c"
      },
      "outputs": [
        {
          "data": {
            "text/html": [
              "<div>\n",
              "<style scoped>\n",
              "    .dataframe tbody tr th:only-of-type {\n",
              "        vertical-align: middle;\n",
              "    }\n",
              "\n",
              "    .dataframe tbody tr th {\n",
              "        vertical-align: top;\n",
              "    }\n",
              "\n",
              "    .dataframe thead th {\n",
              "        text-align: right;\n",
              "    }\n",
              "</style>\n",
              "<table border=\"1\" class=\"dataframe\">\n",
              "  <thead>\n",
              "    <tr style=\"text-align: right;\">\n",
              "      <th></th>\n",
              "      <th>adult</th>\n",
              "      <th>belongs_to_collection</th>\n",
              "      <th>budget</th>\n",
              "      <th>genres</th>\n",
              "      <th>homepage</th>\n",
              "      <th>id</th>\n",
              "      <th>imdb_id</th>\n",
              "      <th>original_language</th>\n",
              "      <th>original_title</th>\n",
              "      <th>overview</th>\n",
              "      <th>...</th>\n",
              "      <th>status</th>\n",
              "      <th>tagline</th>\n",
              "      <th>title</th>\n",
              "      <th>video</th>\n",
              "      <th>vote_average</th>\n",
              "      <th>vote_count</th>\n",
              "      <th>year</th>\n",
              "      <th>cast</th>\n",
              "      <th>crew</th>\n",
              "      <th>keywords</th>\n",
              "    </tr>\n",
              "  </thead>\n",
              "  <tbody>\n",
              "    <tr>\n",
              "      <th>0</th>\n",
              "      <td>False</td>\n",
              "      <td>{'id': 10194, 'name': 'Toy Story Collection', ...</td>\n",
              "      <td>30000000</td>\n",
              "      <td>[Animation, Comedy, Family]</td>\n",
              "      <td>http://toystory.disney.com/toy-story</td>\n",
              "      <td>862</td>\n",
              "      <td>tt0114709</td>\n",
              "      <td>en</td>\n",
              "      <td>Toy Story</td>\n",
              "      <td>Led by Woody, Andy's toys live happily in his ...</td>\n",
              "      <td>...</td>\n",
              "      <td>Released</td>\n",
              "      <td>NaN</td>\n",
              "      <td>Toy Story</td>\n",
              "      <td>False</td>\n",
              "      <td>7.7</td>\n",
              "      <td>5415.0</td>\n",
              "      <td>1995</td>\n",
              "      <td>[{'cast_id': 14, 'character': 'Woody (voice)',...</td>\n",
              "      <td>[{'credit_id': '52fe4284c3a36847f8024f49', 'de...</td>\n",
              "      <td>[{'id': 931, 'name': 'jealousy'}, {'id': 4290,...</td>\n",
              "    </tr>\n",
              "    <tr>\n",
              "      <th>1</th>\n",
              "      <td>False</td>\n",
              "      <td>NaN</td>\n",
              "      <td>65000000</td>\n",
              "      <td>[Adventure, Fantasy, Family]</td>\n",
              "      <td>NaN</td>\n",
              "      <td>8844</td>\n",
              "      <td>tt0113497</td>\n",
              "      <td>en</td>\n",
              "      <td>Jumanji</td>\n",
              "      <td>When siblings Judy and Peter discover an encha...</td>\n",
              "      <td>...</td>\n",
              "      <td>Released</td>\n",
              "      <td>Roll the dice and unleash the excitement!</td>\n",
              "      <td>Jumanji</td>\n",
              "      <td>False</td>\n",
              "      <td>6.9</td>\n",
              "      <td>2413.0</td>\n",
              "      <td>1995</td>\n",
              "      <td>[{'cast_id': 1, 'character': 'Alan Parrish', '...</td>\n",
              "      <td>[{'credit_id': '52fe44bfc3a36847f80a7cd1', 'de...</td>\n",
              "      <td>[{'id': 10090, 'name': 'board game'}, {'id': 1...</td>\n",
              "    </tr>\n",
              "    <tr>\n",
              "      <th>2</th>\n",
              "      <td>False</td>\n",
              "      <td>{'id': 119050, 'name': 'Grumpy Old Men Collect...</td>\n",
              "      <td>0</td>\n",
              "      <td>[Romance, Comedy]</td>\n",
              "      <td>NaN</td>\n",
              "      <td>15602</td>\n",
              "      <td>tt0113228</td>\n",
              "      <td>en</td>\n",
              "      <td>Grumpier Old Men</td>\n",
              "      <td>A family wedding reignites the ancient feud be...</td>\n",
              "      <td>...</td>\n",
              "      <td>Released</td>\n",
              "      <td>Still Yelling. Still Fighting. Still Ready for...</td>\n",
              "      <td>Grumpier Old Men</td>\n",
              "      <td>False</td>\n",
              "      <td>6.5</td>\n",
              "      <td>92.0</td>\n",
              "      <td>1995</td>\n",
              "      <td>[{'cast_id': 2, 'character': 'Max Goldman', 'c...</td>\n",
              "      <td>[{'credit_id': '52fe466a9251416c75077a89', 'de...</td>\n",
              "      <td>[{'id': 1495, 'name': 'fishing'}, {'id': 12392...</td>\n",
              "    </tr>\n",
              "    <tr>\n",
              "      <th>3</th>\n",
              "      <td>False</td>\n",
              "      <td>NaN</td>\n",
              "      <td>16000000</td>\n",
              "      <td>[Comedy, Drama, Romance]</td>\n",
              "      <td>NaN</td>\n",
              "      <td>31357</td>\n",
              "      <td>tt0114885</td>\n",
              "      <td>en</td>\n",
              "      <td>Waiting to Exhale</td>\n",
              "      <td>Cheated on, mistreated and stepped on, the wom...</td>\n",
              "      <td>...</td>\n",
              "      <td>Released</td>\n",
              "      <td>Friends are the people who let you be yourself...</td>\n",
              "      <td>Waiting to Exhale</td>\n",
              "      <td>False</td>\n",
              "      <td>6.1</td>\n",
              "      <td>34.0</td>\n",
              "      <td>1995</td>\n",
              "      <td>[{'cast_id': 1, 'character': \"Savannah 'Vannah...</td>\n",
              "      <td>[{'credit_id': '52fe44779251416c91011acb', 'de...</td>\n",
              "      <td>[{'id': 818, 'name': 'based on novel'}, {'id':...</td>\n",
              "    </tr>\n",
              "    <tr>\n",
              "      <th>4</th>\n",
              "      <td>False</td>\n",
              "      <td>{'id': 96871, 'name': 'Father of the Bride Col...</td>\n",
              "      <td>0</td>\n",
              "      <td>[Comedy]</td>\n",
              "      <td>NaN</td>\n",
              "      <td>11862</td>\n",
              "      <td>tt0113041</td>\n",
              "      <td>en</td>\n",
              "      <td>Father of the Bride Part II</td>\n",
              "      <td>Just when George Banks has recovered from his ...</td>\n",
              "      <td>...</td>\n",
              "      <td>Released</td>\n",
              "      <td>Just When His World Is Back To Normal... He's ...</td>\n",
              "      <td>Father of the Bride Part II</td>\n",
              "      <td>False</td>\n",
              "      <td>5.7</td>\n",
              "      <td>173.0</td>\n",
              "      <td>1995</td>\n",
              "      <td>[{'cast_id': 1, 'character': 'George Banks', '...</td>\n",
              "      <td>[{'credit_id': '52fe44959251416c75039ed7', 'de...</td>\n",
              "      <td>[{'id': 1009, 'name': 'baby'}, {'id': 1599, 'n...</td>\n",
              "    </tr>\n",
              "    <tr>\n",
              "      <th>...</th>\n",
              "      <td>...</td>\n",
              "      <td>...</td>\n",
              "      <td>...</td>\n",
              "      <td>...</td>\n",
              "      <td>...</td>\n",
              "      <td>...</td>\n",
              "      <td>...</td>\n",
              "      <td>...</td>\n",
              "      <td>...</td>\n",
              "      <td>...</td>\n",
              "      <td>...</td>\n",
              "      <td>...</td>\n",
              "      <td>...</td>\n",
              "      <td>...</td>\n",
              "      <td>...</td>\n",
              "      <td>...</td>\n",
              "      <td>...</td>\n",
              "      <td>...</td>\n",
              "      <td>...</td>\n",
              "      <td>...</td>\n",
              "      <td>...</td>\n",
              "    </tr>\n",
              "    <tr>\n",
              "      <th>40952</th>\n",
              "      <td>False</td>\n",
              "      <td>NaN</td>\n",
              "      <td>8000000</td>\n",
              "      <td>[Drama]</td>\n",
              "      <td>NaN</td>\n",
              "      <td>159550</td>\n",
              "      <td>tt0255313</td>\n",
              "      <td>en</td>\n",
              "      <td>The Last Brickmaker in America</td>\n",
              "      <td>A man must cope with the loss of his wife and ...</td>\n",
              "      <td>...</td>\n",
              "      <td>Released</td>\n",
              "      <td>NaN</td>\n",
              "      <td>The Last Brickmaker in America</td>\n",
              "      <td>False</td>\n",
              "      <td>7.0</td>\n",
              "      <td>1.0</td>\n",
              "      <td>2001</td>\n",
              "      <td>[{'cast_id': 1, 'character': 'Henry Cobb', 'cr...</td>\n",
              "      <td>[{'credit_id': '544475aac3a36819fb000578', 'de...</td>\n",
              "      <td>[{'id': 6054, 'name': 'friendship'}, {'id': 20...</td>\n",
              "    </tr>\n",
              "    <tr>\n",
              "      <th>41172</th>\n",
              "      <td>False</td>\n",
              "      <td>NaN</td>\n",
              "      <td>1000000</td>\n",
              "      <td>[Thriller, Romance]</td>\n",
              "      <td>NaN</td>\n",
              "      <td>392572</td>\n",
              "      <td>tt5165344</td>\n",
              "      <td>hi</td>\n",
              "      <td>रुस्तम</td>\n",
              "      <td>Rustom Pavri, an honourable officer of the Ind...</td>\n",
              "      <td>...</td>\n",
              "      <td>Released</td>\n",
              "      <td>Decorated Officer. Devoted Family Man. Defendi...</td>\n",
              "      <td>Rustom</td>\n",
              "      <td>False</td>\n",
              "      <td>7.3</td>\n",
              "      <td>25.0</td>\n",
              "      <td>2016</td>\n",
              "      <td>[{'cast_id': 0, 'character': 'Rustom Pavri', '...</td>\n",
              "      <td>[{'credit_id': '5951baf692514129c4016600', 'de...</td>\n",
              "      <td>[{'id': 10540, 'name': 'bollywood'}]</td>\n",
              "    </tr>\n",
              "    <tr>\n",
              "      <th>41225</th>\n",
              "      <td>False</td>\n",
              "      <td>NaN</td>\n",
              "      <td>15050000</td>\n",
              "      <td>[Adventure, Drama, History, Romance]</td>\n",
              "      <td>NaN</td>\n",
              "      <td>402672</td>\n",
              "      <td>tt3859980</td>\n",
              "      <td>hi</td>\n",
              "      <td>Mohenjo Daro</td>\n",
              "      <td>Village lad Sarman is drawn to big, bad Mohenj...</td>\n",
              "      <td>...</td>\n",
              "      <td>Released</td>\n",
              "      <td>NaN</td>\n",
              "      <td>Mohenjo Daro</td>\n",
              "      <td>False</td>\n",
              "      <td>6.7</td>\n",
              "      <td>26.0</td>\n",
              "      <td>2016</td>\n",
              "      <td>[{'cast_id': 0, 'character': 'Sarman', 'credit...</td>\n",
              "      <td>[{'credit_id': '57cd5d3592514179d50018e8', 'de...</td>\n",
              "      <td>[{'id': 10540, 'name': 'bollywood'}]</td>\n",
              "    </tr>\n",
              "    <tr>\n",
              "      <th>41391</th>\n",
              "      <td>False</td>\n",
              "      <td>NaN</td>\n",
              "      <td>15000000</td>\n",
              "      <td>[Action, Adventure, Drama, Horror, Science Fic...</td>\n",
              "      <td>NaN</td>\n",
              "      <td>315011</td>\n",
              "      <td>tt4262980</td>\n",
              "      <td>ja</td>\n",
              "      <td>シン・ゴジラ</td>\n",
              "      <td>From the mind behind Evangelion comes a hit la...</td>\n",
              "      <td>...</td>\n",
              "      <td>Released</td>\n",
              "      <td>A god incarnate. A city doomed.</td>\n",
              "      <td>Shin Godzilla</td>\n",
              "      <td>False</td>\n",
              "      <td>6.6</td>\n",
              "      <td>152.0</td>\n",
              "      <td>2016</td>\n",
              "      <td>[{'cast_id': 4, 'character': 'Rando Yaguchi : ...</td>\n",
              "      <td>[{'credit_id': '560892fa92514177550018b2', 'de...</td>\n",
              "      <td>[{'id': 1299, 'name': 'monster'}, {'id': 7671,...</td>\n",
              "    </tr>\n",
              "    <tr>\n",
              "      <th>41669</th>\n",
              "      <td>False</td>\n",
              "      <td>NaN</td>\n",
              "      <td>0</td>\n",
              "      <td>[Documentary, Music]</td>\n",
              "      <td>http://www.thebeatlesliveproject.com/</td>\n",
              "      <td>391698</td>\n",
              "      <td>tt2531318</td>\n",
              "      <td>en</td>\n",
              "      <td>The Beatles: Eight Days a Week - The Touring Y...</td>\n",
              "      <td>The band stormed Europe in 1963, and, in 1964,...</td>\n",
              "      <td>...</td>\n",
              "      <td>Released</td>\n",
              "      <td>The band you know. The story you don't.</td>\n",
              "      <td>The Beatles: Eight Days a Week - The Touring Y...</td>\n",
              "      <td>False</td>\n",
              "      <td>7.6</td>\n",
              "      <td>92.0</td>\n",
              "      <td>2016</td>\n",
              "      <td>[{'cast_id': 0, 'character': 'Himself', 'credi...</td>\n",
              "      <td>[{'credit_id': '57057c6cc3a3680dca000285', 'de...</td>\n",
              "      <td>[{'id': 6027, 'name': 'music'}, {'id': 10073, ...</td>\n",
              "    </tr>\n",
              "  </tbody>\n",
              "</table>\n",
              "<p>9219 rows × 28 columns</p>\n",
              "</div>"
            ],
            "text/plain": [
              "       adult                              belongs_to_collection    budget  \\\n",
              "0      False  {'id': 10194, 'name': 'Toy Story Collection', ...  30000000   \n",
              "1      False                                                NaN  65000000   \n",
              "2      False  {'id': 119050, 'name': 'Grumpy Old Men Collect...         0   \n",
              "3      False                                                NaN  16000000   \n",
              "4      False  {'id': 96871, 'name': 'Father of the Bride Col...         0   \n",
              "...      ...                                                ...       ...   \n",
              "40952  False                                                NaN   8000000   \n",
              "41172  False                                                NaN   1000000   \n",
              "41225  False                                                NaN  15050000   \n",
              "41391  False                                                NaN  15000000   \n",
              "41669  False                                                NaN         0   \n",
              "\n",
              "                                                  genres  \\\n",
              "0                            [Animation, Comedy, Family]   \n",
              "1                           [Adventure, Fantasy, Family]   \n",
              "2                                      [Romance, Comedy]   \n",
              "3                               [Comedy, Drama, Romance]   \n",
              "4                                               [Comedy]   \n",
              "...                                                  ...   \n",
              "40952                                            [Drama]   \n",
              "41172                                [Thriller, Romance]   \n",
              "41225               [Adventure, Drama, History, Romance]   \n",
              "41391  [Action, Adventure, Drama, Horror, Science Fic...   \n",
              "41669                               [Documentary, Music]   \n",
              "\n",
              "                                    homepage      id    imdb_id  \\\n",
              "0       http://toystory.disney.com/toy-story     862  tt0114709   \n",
              "1                                        NaN    8844  tt0113497   \n",
              "2                                        NaN   15602  tt0113228   \n",
              "3                                        NaN   31357  tt0114885   \n",
              "4                                        NaN   11862  tt0113041   \n",
              "...                                      ...     ...        ...   \n",
              "40952                                    NaN  159550  tt0255313   \n",
              "41172                                    NaN  392572  tt5165344   \n",
              "41225                                    NaN  402672  tt3859980   \n",
              "41391                                    NaN  315011  tt4262980   \n",
              "41669  http://www.thebeatlesliveproject.com/  391698  tt2531318   \n",
              "\n",
              "      original_language                                     original_title  \\\n",
              "0                    en                                          Toy Story   \n",
              "1                    en                                            Jumanji   \n",
              "2                    en                                   Grumpier Old Men   \n",
              "3                    en                                  Waiting to Exhale   \n",
              "4                    en                        Father of the Bride Part II   \n",
              "...                 ...                                                ...   \n",
              "40952                en                     The Last Brickmaker in America   \n",
              "41172                hi                                             रुस्तम   \n",
              "41225                hi                                       Mohenjo Daro   \n",
              "41391                ja                                             シン・ゴジラ   \n",
              "41669                en  The Beatles: Eight Days a Week - The Touring Y...   \n",
              "\n",
              "                                                overview  ...    status  \\\n",
              "0      Led by Woody, Andy's toys live happily in his ...  ...  Released   \n",
              "1      When siblings Judy and Peter discover an encha...  ...  Released   \n",
              "2      A family wedding reignites the ancient feud be...  ...  Released   \n",
              "3      Cheated on, mistreated and stepped on, the wom...  ...  Released   \n",
              "4      Just when George Banks has recovered from his ...  ...  Released   \n",
              "...                                                  ...  ...       ...   \n",
              "40952  A man must cope with the loss of his wife and ...  ...  Released   \n",
              "41172  Rustom Pavri, an honourable officer of the Ind...  ...  Released   \n",
              "41225  Village lad Sarman is drawn to big, bad Mohenj...  ...  Released   \n",
              "41391  From the mind behind Evangelion comes a hit la...  ...  Released   \n",
              "41669  The band stormed Europe in 1963, and, in 1964,...  ...  Released   \n",
              "\n",
              "                                                 tagline  \\\n",
              "0                                                    NaN   \n",
              "1              Roll the dice and unleash the excitement!   \n",
              "2      Still Yelling. Still Fighting. Still Ready for...   \n",
              "3      Friends are the people who let you be yourself...   \n",
              "4      Just When His World Is Back To Normal... He's ...   \n",
              "...                                                  ...   \n",
              "40952                                                NaN   \n",
              "41172  Decorated Officer. Devoted Family Man. Defendi...   \n",
              "41225                                                NaN   \n",
              "41391                    A god incarnate. A city doomed.   \n",
              "41669            The band you know. The story you don't.   \n",
              "\n",
              "                                                   title  video vote_average  \\\n",
              "0                                              Toy Story  False          7.7   \n",
              "1                                                Jumanji  False          6.9   \n",
              "2                                       Grumpier Old Men  False          6.5   \n",
              "3                                      Waiting to Exhale  False          6.1   \n",
              "4                            Father of the Bride Part II  False          5.7   \n",
              "...                                                  ...    ...          ...   \n",
              "40952                     The Last Brickmaker in America  False          7.0   \n",
              "41172                                             Rustom  False          7.3   \n",
              "41225                                       Mohenjo Daro  False          6.7   \n",
              "41391                                      Shin Godzilla  False          6.6   \n",
              "41669  The Beatles: Eight Days a Week - The Touring Y...  False          7.6   \n",
              "\n",
              "       vote_count  year                                               cast  \\\n",
              "0          5415.0  1995  [{'cast_id': 14, 'character': 'Woody (voice)',...   \n",
              "1          2413.0  1995  [{'cast_id': 1, 'character': 'Alan Parrish', '...   \n",
              "2            92.0  1995  [{'cast_id': 2, 'character': 'Max Goldman', 'c...   \n",
              "3            34.0  1995  [{'cast_id': 1, 'character': \"Savannah 'Vannah...   \n",
              "4           173.0  1995  [{'cast_id': 1, 'character': 'George Banks', '...   \n",
              "...           ...   ...                                                ...   \n",
              "40952         1.0  2001  [{'cast_id': 1, 'character': 'Henry Cobb', 'cr...   \n",
              "41172        25.0  2016  [{'cast_id': 0, 'character': 'Rustom Pavri', '...   \n",
              "41225        26.0  2016  [{'cast_id': 0, 'character': 'Sarman', 'credit...   \n",
              "41391       152.0  2016  [{'cast_id': 4, 'character': 'Rando Yaguchi : ...   \n",
              "41669        92.0  2016  [{'cast_id': 0, 'character': 'Himself', 'credi...   \n",
              "\n",
              "                                                    crew  \\\n",
              "0      [{'credit_id': '52fe4284c3a36847f8024f49', 'de...   \n",
              "1      [{'credit_id': '52fe44bfc3a36847f80a7cd1', 'de...   \n",
              "2      [{'credit_id': '52fe466a9251416c75077a89', 'de...   \n",
              "3      [{'credit_id': '52fe44779251416c91011acb', 'de...   \n",
              "4      [{'credit_id': '52fe44959251416c75039ed7', 'de...   \n",
              "...                                                  ...   \n",
              "40952  [{'credit_id': '544475aac3a36819fb000578', 'de...   \n",
              "41172  [{'credit_id': '5951baf692514129c4016600', 'de...   \n",
              "41225  [{'credit_id': '57cd5d3592514179d50018e8', 'de...   \n",
              "41391  [{'credit_id': '560892fa92514177550018b2', 'de...   \n",
              "41669  [{'credit_id': '57057c6cc3a3680dca000285', 'de...   \n",
              "\n",
              "                                                keywords  \n",
              "0      [{'id': 931, 'name': 'jealousy'}, {'id': 4290,...  \n",
              "1      [{'id': 10090, 'name': 'board game'}, {'id': 1...  \n",
              "2      [{'id': 1495, 'name': 'fishing'}, {'id': 12392...  \n",
              "3      [{'id': 818, 'name': 'based on novel'}, {'id':...  \n",
              "4      [{'id': 1009, 'name': 'baby'}, {'id': 1599, 'n...  \n",
              "...                                                  ...  \n",
              "40952  [{'id': 6054, 'name': 'friendship'}, {'id': 20...  \n",
              "41172               [{'id': 10540, 'name': 'bollywood'}]  \n",
              "41225               [{'id': 10540, 'name': 'bollywood'}]  \n",
              "41391  [{'id': 1299, 'name': 'monster'}, {'id': 7671,...  \n",
              "41669  [{'id': 6027, 'name': 'music'}, {'id': 10073, ...  \n",
              "\n",
              "[9219 rows x 28 columns]"
            ]
          },
          "execution_count": 22,
          "metadata": {},
          "output_type": "execute_result"
        }
      ],
      "source": [
        "film_meta = film[film['id'].isin(links_small)]\n",
        "film_meta.shape\n",
        "film_meta"
      ]
    },
    {
      "cell_type": "code",
      "execution_count": 23,
      "metadata": {
        "id": "mTsxbD0UV0uH"
      },
      "outputs": [],
      "source": [
        "film_meta['cast']=film_meta['cast'].apply(literal_eval)\n",
        "film_meta['crew'] = film_meta['crew'].apply(literal_eval)\n",
        "film_meta['keywords'] = film_meta['keywords'].apply(literal_eval)\n",
        "film_meta['cast_size'] = film_meta['cast'].apply(lambda x: len(x))\n",
        "film_meta['crew_size'] = film_meta['crew'].apply(lambda x: len(x))\n"
      ]
    },
    {
      "cell_type": "code",
      "execution_count": 24,
      "metadata": {
        "id": "uJwzCM2WV5PI"
      },
      "outputs": [],
      "source": [
        "#funzione per estratte il regista dalla crew\n",
        "def get_director(x):\n",
        "    for i in x:\n",
        "        if i['job'] == 'Director':\n",
        "            return i['name']\n",
        "    return np.nan"
      ]
    },
    {
      "cell_type": "code",
      "execution_count": 25,
      "metadata": {
        "id": "FFkeI78EV_xy"
      },
      "outputs": [],
      "source": [
        "film_meta['director'] = film_meta['crew'].apply(get_director)"
      ]
    },
    {
      "cell_type": "code",
      "execution_count": 26,
      "metadata": {
        "id": "ly_ukwcxWFKA"
      },
      "outputs": [],
      "source": [
        "film_meta['cast'] = film_meta['cast'].apply(lambda x: [i['name'] for i in x] if isinstance(x, list) else [])\n",
        "film_meta['cast'] = film_meta['cast'].apply(lambda x: x[:3] if len(x) >=3 else x)"
      ]
    },
    {
      "cell_type": "code",
      "execution_count": 27,
      "metadata": {
        "id": "hiD3OPoMWNEM"
      },
      "outputs": [],
      "source": [
        "film_meta['keywords'] = film_meta['keywords'].apply(lambda x: [i['name'] for i in x] if isinstance(x, list) else [])"
      ]
    },
    {
      "cell_type": "code",
      "execution_count": 28,
      "metadata": {
        "id": "ECb1yDXQWa_n"
      },
      "outputs": [],
      "source": [
        "film_meta['cast'] = film_meta['cast'].apply(lambda x: [str.lower(i.replace(\" \", \"\")) for i in x])"
      ]
    },
    {
      "cell_type": "code",
      "execution_count": 29,
      "metadata": {
        "id": "TUpORxidW7zL"
      },
      "outputs": [],
      "source": [
        "film_meta['director'] = film_meta['director'].astype('str').apply(lambda x: str.lower(x.replace(\" \", \"\")))\n",
        "film_meta['director'] = film_meta['director'].apply(lambda x: [x,x])"
      ]
    },
    {
      "cell_type": "code",
      "execution_count": 30,
      "metadata": {
        "colab": {
          "base_uri": "https://localhost:8080/",
          "height": 1000
        },
        "id": "cPQF69QjbYE2",
        "outputId": "c8d4399c-f3cd-43d6-f043-f01bdbada423"
      },
      "outputs": [
        {
          "data": {
            "text/html": [
              "<div>\n",
              "<style scoped>\n",
              "    .dataframe tbody tr th:only-of-type {\n",
              "        vertical-align: middle;\n",
              "    }\n",
              "\n",
              "    .dataframe tbody tr th {\n",
              "        vertical-align: top;\n",
              "    }\n",
              "\n",
              "    .dataframe thead th {\n",
              "        text-align: right;\n",
              "    }\n",
              "</style>\n",
              "<table border=\"1\" class=\"dataframe\">\n",
              "  <thead>\n",
              "    <tr style=\"text-align: right;\">\n",
              "      <th></th>\n",
              "      <th>adult</th>\n",
              "      <th>belongs_to_collection</th>\n",
              "      <th>budget</th>\n",
              "      <th>genres</th>\n",
              "      <th>homepage</th>\n",
              "      <th>id</th>\n",
              "      <th>imdb_id</th>\n",
              "      <th>original_language</th>\n",
              "      <th>original_title</th>\n",
              "      <th>overview</th>\n",
              "      <th>...</th>\n",
              "      <th>video</th>\n",
              "      <th>vote_average</th>\n",
              "      <th>vote_count</th>\n",
              "      <th>year</th>\n",
              "      <th>cast</th>\n",
              "      <th>crew</th>\n",
              "      <th>keywords</th>\n",
              "      <th>cast_size</th>\n",
              "      <th>crew_size</th>\n",
              "      <th>director</th>\n",
              "    </tr>\n",
              "  </thead>\n",
              "  <tbody>\n",
              "    <tr>\n",
              "      <th>0</th>\n",
              "      <td>False</td>\n",
              "      <td>{'id': 10194, 'name': 'Toy Story Collection', ...</td>\n",
              "      <td>30000000</td>\n",
              "      <td>[Animation, Comedy, Family]</td>\n",
              "      <td>http://toystory.disney.com/toy-story</td>\n",
              "      <td>862</td>\n",
              "      <td>tt0114709</td>\n",
              "      <td>en</td>\n",
              "      <td>Toy Story</td>\n",
              "      <td>Led by Woody, Andy's toys live happily in his ...</td>\n",
              "      <td>...</td>\n",
              "      <td>False</td>\n",
              "      <td>7.7</td>\n",
              "      <td>5415.0</td>\n",
              "      <td>1995</td>\n",
              "      <td>[tomhanks, timallen, donrickles]</td>\n",
              "      <td>[{'credit_id': '52fe4284c3a36847f8024f49', 'de...</td>\n",
              "      <td>[jealousy, toy, boy, friendship, friends, riva...</td>\n",
              "      <td>13</td>\n",
              "      <td>106</td>\n",
              "      <td>[johnlasseter, johnlasseter]</td>\n",
              "    </tr>\n",
              "    <tr>\n",
              "      <th>1</th>\n",
              "      <td>False</td>\n",
              "      <td>NaN</td>\n",
              "      <td>65000000</td>\n",
              "      <td>[Adventure, Fantasy, Family]</td>\n",
              "      <td>NaN</td>\n",
              "      <td>8844</td>\n",
              "      <td>tt0113497</td>\n",
              "      <td>en</td>\n",
              "      <td>Jumanji</td>\n",
              "      <td>When siblings Judy and Peter discover an encha...</td>\n",
              "      <td>...</td>\n",
              "      <td>False</td>\n",
              "      <td>6.9</td>\n",
              "      <td>2413.0</td>\n",
              "      <td>1995</td>\n",
              "      <td>[robinwilliams, jonathanhyde, kirstendunst]</td>\n",
              "      <td>[{'credit_id': '52fe44bfc3a36847f80a7cd1', 'de...</td>\n",
              "      <td>[board game, disappearance, based on children'...</td>\n",
              "      <td>26</td>\n",
              "      <td>16</td>\n",
              "      <td>[joejohnston, joejohnston]</td>\n",
              "    </tr>\n",
              "    <tr>\n",
              "      <th>2</th>\n",
              "      <td>False</td>\n",
              "      <td>{'id': 119050, 'name': 'Grumpy Old Men Collect...</td>\n",
              "      <td>0</td>\n",
              "      <td>[Romance, Comedy]</td>\n",
              "      <td>NaN</td>\n",
              "      <td>15602</td>\n",
              "      <td>tt0113228</td>\n",
              "      <td>en</td>\n",
              "      <td>Grumpier Old Men</td>\n",
              "      <td>A family wedding reignites the ancient feud be...</td>\n",
              "      <td>...</td>\n",
              "      <td>False</td>\n",
              "      <td>6.5</td>\n",
              "      <td>92.0</td>\n",
              "      <td>1995</td>\n",
              "      <td>[waltermatthau, jacklemmon, ann-margret]</td>\n",
              "      <td>[{'credit_id': '52fe466a9251416c75077a89', 'de...</td>\n",
              "      <td>[fishing, best friend, duringcreditsstinger, o...</td>\n",
              "      <td>7</td>\n",
              "      <td>4</td>\n",
              "      <td>[howarddeutch, howarddeutch]</td>\n",
              "    </tr>\n",
              "    <tr>\n",
              "      <th>3</th>\n",
              "      <td>False</td>\n",
              "      <td>NaN</td>\n",
              "      <td>16000000</td>\n",
              "      <td>[Comedy, Drama, Romance]</td>\n",
              "      <td>NaN</td>\n",
              "      <td>31357</td>\n",
              "      <td>tt0114885</td>\n",
              "      <td>en</td>\n",
              "      <td>Waiting to Exhale</td>\n",
              "      <td>Cheated on, mistreated and stepped on, the wom...</td>\n",
              "      <td>...</td>\n",
              "      <td>False</td>\n",
              "      <td>6.1</td>\n",
              "      <td>34.0</td>\n",
              "      <td>1995</td>\n",
              "      <td>[whitneyhouston, angelabassett, lorettadevine]</td>\n",
              "      <td>[{'credit_id': '52fe44779251416c91011acb', 'de...</td>\n",
              "      <td>[based on novel, interracial relationship, sin...</td>\n",
              "      <td>10</td>\n",
              "      <td>10</td>\n",
              "      <td>[forestwhitaker, forestwhitaker]</td>\n",
              "    </tr>\n",
              "    <tr>\n",
              "      <th>4</th>\n",
              "      <td>False</td>\n",
              "      <td>{'id': 96871, 'name': 'Father of the Bride Col...</td>\n",
              "      <td>0</td>\n",
              "      <td>[Comedy]</td>\n",
              "      <td>NaN</td>\n",
              "      <td>11862</td>\n",
              "      <td>tt0113041</td>\n",
              "      <td>en</td>\n",
              "      <td>Father of the Bride Part II</td>\n",
              "      <td>Just when George Banks has recovered from his ...</td>\n",
              "      <td>...</td>\n",
              "      <td>False</td>\n",
              "      <td>5.7</td>\n",
              "      <td>173.0</td>\n",
              "      <td>1995</td>\n",
              "      <td>[stevemartin, dianekeaton, martinshort]</td>\n",
              "      <td>[{'credit_id': '52fe44959251416c75039ed7', 'de...</td>\n",
              "      <td>[baby, midlife crisis, confidence, aging, daug...</td>\n",
              "      <td>12</td>\n",
              "      <td>7</td>\n",
              "      <td>[charlesshyer, charlesshyer]</td>\n",
              "    </tr>\n",
              "    <tr>\n",
              "      <th>...</th>\n",
              "      <td>...</td>\n",
              "      <td>...</td>\n",
              "      <td>...</td>\n",
              "      <td>...</td>\n",
              "      <td>...</td>\n",
              "      <td>...</td>\n",
              "      <td>...</td>\n",
              "      <td>...</td>\n",
              "      <td>...</td>\n",
              "      <td>...</td>\n",
              "      <td>...</td>\n",
              "      <td>...</td>\n",
              "      <td>...</td>\n",
              "      <td>...</td>\n",
              "      <td>...</td>\n",
              "      <td>...</td>\n",
              "      <td>...</td>\n",
              "      <td>...</td>\n",
              "      <td>...</td>\n",
              "      <td>...</td>\n",
              "      <td>...</td>\n",
              "    </tr>\n",
              "    <tr>\n",
              "      <th>40952</th>\n",
              "      <td>False</td>\n",
              "      <td>NaN</td>\n",
              "      <td>8000000</td>\n",
              "      <td>[Drama]</td>\n",
              "      <td>NaN</td>\n",
              "      <td>159550</td>\n",
              "      <td>tt0255313</td>\n",
              "      <td>en</td>\n",
              "      <td>The Last Brickmaker in America</td>\n",
              "      <td>A man must cope with the loss of his wife and ...</td>\n",
              "      <td>...</td>\n",
              "      <td>False</td>\n",
              "      <td>7.0</td>\n",
              "      <td>1.0</td>\n",
              "      <td>2001</td>\n",
              "      <td>[sidneypoitier, wendycrewson, jayo.sanders]</td>\n",
              "      <td>[{'credit_id': '544475aac3a36819fb000578', 'de...</td>\n",
              "      <td>[friendship, brick making]</td>\n",
              "      <td>7</td>\n",
              "      <td>2</td>\n",
              "      <td>[greggchampion, greggchampion]</td>\n",
              "    </tr>\n",
              "    <tr>\n",
              "      <th>41172</th>\n",
              "      <td>False</td>\n",
              "      <td>NaN</td>\n",
              "      <td>1000000</td>\n",
              "      <td>[Thriller, Romance]</td>\n",
              "      <td>NaN</td>\n",
              "      <td>392572</td>\n",
              "      <td>tt5165344</td>\n",
              "      <td>hi</td>\n",
              "      <td>रुस्तम</td>\n",
              "      <td>Rustom Pavri, an honourable officer of the Ind...</td>\n",
              "      <td>...</td>\n",
              "      <td>False</td>\n",
              "      <td>7.3</td>\n",
              "      <td>25.0</td>\n",
              "      <td>2016</td>\n",
              "      <td>[akshaykumar, ileanad'cruz, eshagupta]</td>\n",
              "      <td>[{'credit_id': '5951baf692514129c4016600', 'de...</td>\n",
              "      <td>[bollywood]</td>\n",
              "      <td>14</td>\n",
              "      <td>16</td>\n",
              "      <td>[tinusureshdesai, tinusureshdesai]</td>\n",
              "    </tr>\n",
              "    <tr>\n",
              "      <th>41225</th>\n",
              "      <td>False</td>\n",
              "      <td>NaN</td>\n",
              "      <td>15050000</td>\n",
              "      <td>[Adventure, Drama, History, Romance]</td>\n",
              "      <td>NaN</td>\n",
              "      <td>402672</td>\n",
              "      <td>tt3859980</td>\n",
              "      <td>hi</td>\n",
              "      <td>Mohenjo Daro</td>\n",
              "      <td>Village lad Sarman is drawn to big, bad Mohenj...</td>\n",
              "      <td>...</td>\n",
              "      <td>False</td>\n",
              "      <td>6.7</td>\n",
              "      <td>26.0</td>\n",
              "      <td>2016</td>\n",
              "      <td>[hrithikroshan, poojahegde, kabirbedi]</td>\n",
              "      <td>[{'credit_id': '57cd5d3592514179d50018e8', 'de...</td>\n",
              "      <td>[bollywood]</td>\n",
              "      <td>12</td>\n",
              "      <td>16</td>\n",
              "      <td>[ashutoshgowariker, ashutoshgowariker]</td>\n",
              "    </tr>\n",
              "    <tr>\n",
              "      <th>41391</th>\n",
              "      <td>False</td>\n",
              "      <td>NaN</td>\n",
              "      <td>15000000</td>\n",
              "      <td>[Action, Adventure, Drama, Horror, Science Fic...</td>\n",
              "      <td>NaN</td>\n",
              "      <td>315011</td>\n",
              "      <td>tt4262980</td>\n",
              "      <td>ja</td>\n",
              "      <td>シン・ゴジラ</td>\n",
              "      <td>From the mind behind Evangelion comes a hit la...</td>\n",
              "      <td>...</td>\n",
              "      <td>False</td>\n",
              "      <td>6.6</td>\n",
              "      <td>152.0</td>\n",
              "      <td>2016</td>\n",
              "      <td>[hirokihasegawa, yutakatakenouchi, satomiishih...</td>\n",
              "      <td>[{'credit_id': '560892fa92514177550018b2', 'de...</td>\n",
              "      <td>[monster, godzilla, giant monster, destruction...</td>\n",
              "      <td>49</td>\n",
              "      <td>27</td>\n",
              "      <td>[hideakianno, hideakianno]</td>\n",
              "    </tr>\n",
              "    <tr>\n",
              "      <th>41669</th>\n",
              "      <td>False</td>\n",
              "      <td>NaN</td>\n",
              "      <td>0</td>\n",
              "      <td>[Documentary, Music]</td>\n",
              "      <td>http://www.thebeatlesliveproject.com/</td>\n",
              "      <td>391698</td>\n",
              "      <td>tt2531318</td>\n",
              "      <td>en</td>\n",
              "      <td>The Beatles: Eight Days a Week - The Touring Y...</td>\n",
              "      <td>The band stormed Europe in 1963, and, in 1964,...</td>\n",
              "      <td>...</td>\n",
              "      <td>False</td>\n",
              "      <td>7.6</td>\n",
              "      <td>92.0</td>\n",
              "      <td>2016</td>\n",
              "      <td>[paulmccartney, ringostarr, johnlennon]</td>\n",
              "      <td>[{'credit_id': '57057c6cc3a3680dca000285', 'de...</td>\n",
              "      <td>[music, documentary]</td>\n",
              "      <td>28</td>\n",
              "      <td>7</td>\n",
              "      <td>[ronhoward, ronhoward]</td>\n",
              "    </tr>\n",
              "  </tbody>\n",
              "</table>\n",
              "<p>9219 rows × 31 columns</p>\n",
              "</div>"
            ],
            "text/plain": [
              "       adult                              belongs_to_collection    budget  \\\n",
              "0      False  {'id': 10194, 'name': 'Toy Story Collection', ...  30000000   \n",
              "1      False                                                NaN  65000000   \n",
              "2      False  {'id': 119050, 'name': 'Grumpy Old Men Collect...         0   \n",
              "3      False                                                NaN  16000000   \n",
              "4      False  {'id': 96871, 'name': 'Father of the Bride Col...         0   \n",
              "...      ...                                                ...       ...   \n",
              "40952  False                                                NaN   8000000   \n",
              "41172  False                                                NaN   1000000   \n",
              "41225  False                                                NaN  15050000   \n",
              "41391  False                                                NaN  15000000   \n",
              "41669  False                                                NaN         0   \n",
              "\n",
              "                                                  genres  \\\n",
              "0                            [Animation, Comedy, Family]   \n",
              "1                           [Adventure, Fantasy, Family]   \n",
              "2                                      [Romance, Comedy]   \n",
              "3                               [Comedy, Drama, Romance]   \n",
              "4                                               [Comedy]   \n",
              "...                                                  ...   \n",
              "40952                                            [Drama]   \n",
              "41172                                [Thriller, Romance]   \n",
              "41225               [Adventure, Drama, History, Romance]   \n",
              "41391  [Action, Adventure, Drama, Horror, Science Fic...   \n",
              "41669                               [Documentary, Music]   \n",
              "\n",
              "                                    homepage      id    imdb_id  \\\n",
              "0       http://toystory.disney.com/toy-story     862  tt0114709   \n",
              "1                                        NaN    8844  tt0113497   \n",
              "2                                        NaN   15602  tt0113228   \n",
              "3                                        NaN   31357  tt0114885   \n",
              "4                                        NaN   11862  tt0113041   \n",
              "...                                      ...     ...        ...   \n",
              "40952                                    NaN  159550  tt0255313   \n",
              "41172                                    NaN  392572  tt5165344   \n",
              "41225                                    NaN  402672  tt3859980   \n",
              "41391                                    NaN  315011  tt4262980   \n",
              "41669  http://www.thebeatlesliveproject.com/  391698  tt2531318   \n",
              "\n",
              "      original_language                                     original_title  \\\n",
              "0                    en                                          Toy Story   \n",
              "1                    en                                            Jumanji   \n",
              "2                    en                                   Grumpier Old Men   \n",
              "3                    en                                  Waiting to Exhale   \n",
              "4                    en                        Father of the Bride Part II   \n",
              "...                 ...                                                ...   \n",
              "40952                en                     The Last Brickmaker in America   \n",
              "41172                hi                                             रुस्तम   \n",
              "41225                hi                                       Mohenjo Daro   \n",
              "41391                ja                                             シン・ゴジラ   \n",
              "41669                en  The Beatles: Eight Days a Week - The Touring Y...   \n",
              "\n",
              "                                                overview  ...  video  \\\n",
              "0      Led by Woody, Andy's toys live happily in his ...  ...  False   \n",
              "1      When siblings Judy and Peter discover an encha...  ...  False   \n",
              "2      A family wedding reignites the ancient feud be...  ...  False   \n",
              "3      Cheated on, mistreated and stepped on, the wom...  ...  False   \n",
              "4      Just when George Banks has recovered from his ...  ...  False   \n",
              "...                                                  ...  ...    ...   \n",
              "40952  A man must cope with the loss of his wife and ...  ...  False   \n",
              "41172  Rustom Pavri, an honourable officer of the Ind...  ...  False   \n",
              "41225  Village lad Sarman is drawn to big, bad Mohenj...  ...  False   \n",
              "41391  From the mind behind Evangelion comes a hit la...  ...  False   \n",
              "41669  The band stormed Europe in 1963, and, in 1964,...  ...  False   \n",
              "\n",
              "      vote_average vote_count  year  \\\n",
              "0              7.7     5415.0  1995   \n",
              "1              6.9     2413.0  1995   \n",
              "2              6.5       92.0  1995   \n",
              "3              6.1       34.0  1995   \n",
              "4              5.7      173.0  1995   \n",
              "...            ...        ...   ...   \n",
              "40952          7.0        1.0  2001   \n",
              "41172          7.3       25.0  2016   \n",
              "41225          6.7       26.0  2016   \n",
              "41391          6.6      152.0  2016   \n",
              "41669          7.6       92.0  2016   \n",
              "\n",
              "                                                    cast  \\\n",
              "0                       [tomhanks, timallen, donrickles]   \n",
              "1            [robinwilliams, jonathanhyde, kirstendunst]   \n",
              "2               [waltermatthau, jacklemmon, ann-margret]   \n",
              "3         [whitneyhouston, angelabassett, lorettadevine]   \n",
              "4                [stevemartin, dianekeaton, martinshort]   \n",
              "...                                                  ...   \n",
              "40952        [sidneypoitier, wendycrewson, jayo.sanders]   \n",
              "41172             [akshaykumar, ileanad'cruz, eshagupta]   \n",
              "41225             [hrithikroshan, poojahegde, kabirbedi]   \n",
              "41391  [hirokihasegawa, yutakatakenouchi, satomiishih...   \n",
              "41669            [paulmccartney, ringostarr, johnlennon]   \n",
              "\n",
              "                                                    crew  \\\n",
              "0      [{'credit_id': '52fe4284c3a36847f8024f49', 'de...   \n",
              "1      [{'credit_id': '52fe44bfc3a36847f80a7cd1', 'de...   \n",
              "2      [{'credit_id': '52fe466a9251416c75077a89', 'de...   \n",
              "3      [{'credit_id': '52fe44779251416c91011acb', 'de...   \n",
              "4      [{'credit_id': '52fe44959251416c75039ed7', 'de...   \n",
              "...                                                  ...   \n",
              "40952  [{'credit_id': '544475aac3a36819fb000578', 'de...   \n",
              "41172  [{'credit_id': '5951baf692514129c4016600', 'de...   \n",
              "41225  [{'credit_id': '57cd5d3592514179d50018e8', 'de...   \n",
              "41391  [{'credit_id': '560892fa92514177550018b2', 'de...   \n",
              "41669  [{'credit_id': '57057c6cc3a3680dca000285', 'de...   \n",
              "\n",
              "                                                keywords cast_size crew_size  \\\n",
              "0      [jealousy, toy, boy, friendship, friends, riva...        13       106   \n",
              "1      [board game, disappearance, based on children'...        26        16   \n",
              "2      [fishing, best friend, duringcreditsstinger, o...         7         4   \n",
              "3      [based on novel, interracial relationship, sin...        10        10   \n",
              "4      [baby, midlife crisis, confidence, aging, daug...        12         7   \n",
              "...                                                  ...       ...       ...   \n",
              "40952                         [friendship, brick making]         7         2   \n",
              "41172                                        [bollywood]        14        16   \n",
              "41225                                        [bollywood]        12        16   \n",
              "41391  [monster, godzilla, giant monster, destruction...        49        27   \n",
              "41669                               [music, documentary]        28         7   \n",
              "\n",
              "                                     director  \n",
              "0                [johnlasseter, johnlasseter]  \n",
              "1                  [joejohnston, joejohnston]  \n",
              "2                [howarddeutch, howarddeutch]  \n",
              "3            [forestwhitaker, forestwhitaker]  \n",
              "4                [charlesshyer, charlesshyer]  \n",
              "...                                       ...  \n",
              "40952          [greggchampion, greggchampion]  \n",
              "41172      [tinusureshdesai, tinusureshdesai]  \n",
              "41225  [ashutoshgowariker, ashutoshgowariker]  \n",
              "41391              [hideakianno, hideakianno]  \n",
              "41669                  [ronhoward, ronhoward]  \n",
              "\n",
              "[9219 rows x 31 columns]"
            ]
          },
          "execution_count": 30,
          "metadata": {},
          "output_type": "execute_result"
        }
      ],
      "source": [
        "film_meta"
      ]
    },
    {
      "cell_type": "code",
      "execution_count": 31,
      "metadata": {
        "colab": {
          "base_uri": "https://localhost:8080/"
        },
        "id": "jxe_1KURb9O2",
        "outputId": "31d63a09-0449-4601-f17f-20bcd9ab1ab2"
      },
      "outputs": [
        {
          "name": "stderr",
          "output_type": "stream",
          "text": [
            "C:\\Users\\franc\\AppData\\Local\\Temp\\ipykernel_6320\\4103144304.py:1: FutureWarning: The default dtype for empty Series will be 'object' instead of 'float64' in a future version. Specify a dtype explicitly to silence this warning.\n",
            "  s = film_meta.apply(lambda x: pd.Series(x['keywords']),axis=1).stack().reset_index(level=1, drop=True)\n"
          ]
        },
        {
          "data": {
            "text/plain": [
              "0           jealousy\n",
              "0                toy\n",
              "0                boy\n",
              "0         friendship\n",
              "0            friends\n",
              "            ...     \n",
              "41391    destruction\n",
              "41391          kaiju\n",
              "41391          toyko\n",
              "41669          music\n",
              "41669    documentary\n",
              "Name: keyword, Length: 64407, dtype: object"
            ]
          },
          "execution_count": 31,
          "metadata": {},
          "output_type": "execute_result"
        }
      ],
      "source": [
        "s = film_meta.apply(lambda x: pd.Series(x['keywords']),axis=1).stack().reset_index(level=1, drop=True)\n",
        "s.name = 'keyword'\n",
        "s"
      ]
    },
    {
      "cell_type": "code",
      "execution_count": 32,
      "metadata": {
        "id": "j8TBLJH4cCDO"
      },
      "outputs": [],
      "source": [
        "s = s.value_counts()\n",
        "s[:5]\n",
        "s = s[s > 1]"
      ]
    },
    {
      "cell_type": "markdown",
      "metadata": {
        "id": "2QGdE6g-CdXP"
      },
      "source": [
        "**Calcolo similarità cosenica tra film**"
      ]
    },
    {
      "cell_type": "code",
      "execution_count": 33,
      "metadata": {
        "id": "wUWIEcHpcPsV"
      },
      "outputs": [],
      "source": [
        "stemmer = SnowballStemmer('english')"
      ]
    },
    {
      "cell_type": "code",
      "execution_count": 34,
      "metadata": {
        "id": "bC2LCMHOdoAd"
      },
      "outputs": [],
      "source": [
        "def filter_keywords(x):\n",
        "    words = []\n",
        "    for i in x:\n",
        "        if i in s:\n",
        "            words.append(i)\n",
        "    return words"
      ]
    },
    {
      "cell_type": "code",
      "execution_count": 35,
      "metadata": {
        "id": "WKCVjMnUdtvD"
      },
      "outputs": [],
      "source": [
        "#preparazione delle keyword con lo stemming per le successive analisi\n",
        "film_meta['keywords'] = film_meta['keywords'].apply(filter_keywords)\n",
        "film_meta['keywords'] = film_meta['keywords'].apply(lambda x: [stemmer.stem(i) for i in x])\n",
        "film_meta['keywords'] = film_meta['keywords'].apply(lambda x: [str.lower(i.replace(\" \", \"\")) for i in x])"
      ]
    },
    {
      "cell_type": "code",
      "execution_count": 36,
      "metadata": {
        "id": "t-dvJnhXdz1z"
      },
      "outputs": [],
      "source": [
        "#scelta delle features da considerare per ogni film\n",
        "film_meta['soup'] = film_meta['keywords'] + film_meta['cast'] + film_meta['director'] + film_meta['genres']\n",
        "film_meta['soup'] = film_meta['soup'].apply(lambda x: ' '.join(x))"
      ]
    },
    {
      "cell_type": "code",
      "execution_count": 37,
      "metadata": {
        "id": "CNNMSd3Od6iD"
      },
      "outputs": [],
      "source": [
        "count = TfidfVectorizer(analyzer='word',ngram_range=(1, 2),min_df=0, stop_words='english')\n",
        "count_matrix = count.fit_transform(film_meta['soup'])"
      ]
    },
    {
      "cell_type": "code",
      "execution_count": 38,
      "metadata": {
        "id": "oQV49_SHigtP"
      },
      "outputs": [],
      "source": [
        "cosine_sim = cosine_similarity(count_matrix, count_matrix)"
      ]
    },
    {
      "cell_type": "code",
      "execution_count": 39,
      "metadata": {
        "id": "h4m5Tea6ilB2"
      },
      "outputs": [],
      "source": [
        "film_meta = film_meta.reset_index()\n",
        "titles = film_meta['title']\n",
        "indices = pd.Series(film_meta.index, index=film_meta['title'])"
      ]
    },
    {
      "cell_type": "code",
      "execution_count": 40,
      "metadata": {
        "id": "HU83hPbgsetH"
      },
      "outputs": [],
      "source": [
        "#funzione che prende in input il titolo di un film e ne restituisce i più simili ordinati in base al voto medio espresso dagli utenti \n",
        "def raccomandazione_metadati(title):\n",
        "    idx = indices[title]\n",
        "    sim_scores = list(enumerate(cosine_sim[idx]))\n",
        "    sim_scores = sorted(sim_scores, key=lambda x: x[1], reverse=True)\n",
        "    sim_scores = sim_scores[1:26]\n",
        "    movie_indices = [i[0] for i in sim_scores]\n",
        "    \n",
        "    movies = film_meta.iloc[movie_indices][['title', 'vote_count', 'vote_average', 'year']]\n",
        "    num_voti = movies[movies['vote_count'].notnull()]['vote_count'].astype('int')\n",
        "    media_voto = movies[movies['vote_average'].notnull()]['vote_average'].astype('int')\n",
        "    C = media_voto.mean()\n",
        "    m = num_voti.quantile(0.6)\n",
        "    film_popolari = movies[(movies['vote_count'] >= m) & (movies['vote_count'].notnull()) & (movies['vote_average'].notnull())]\n",
        "    film_popolari['vote_count'] = film_popolari['vote_count'].astype('int')\n",
        "    film_popolari['vote_average'] = film_popolari['vote_average'].astype('int')\n",
        "    film_popolari['wr'] = film_popolari.apply(weighted_rating, axis=1)\n",
        "    film_popolari = film_popolari.sort_values('wr', ascending=False).head(25)\n",
        "    return film_popolari"
      ]
    },
    {
      "cell_type": "code",
      "execution_count": 41,
      "metadata": {
        "colab": {
          "base_uri": "https://localhost:8080/",
          "height": 363
        },
        "id": "qrI0LA6csmVx",
        "outputId": "8a9697b8-4d8c-4e99-e8b1-17da167e9952"
      },
      "outputs": [
        {
          "data": {
            "text/html": [
              "<div>\n",
              "<style scoped>\n",
              "    .dataframe tbody tr th:only-of-type {\n",
              "        vertical-align: middle;\n",
              "    }\n",
              "\n",
              "    .dataframe tbody tr th {\n",
              "        vertical-align: top;\n",
              "    }\n",
              "\n",
              "    .dataframe thead th {\n",
              "        text-align: right;\n",
              "    }\n",
              "</style>\n",
              "<table border=\"1\" class=\"dataframe\">\n",
              "  <thead>\n",
              "    <tr style=\"text-align: right;\">\n",
              "      <th></th>\n",
              "      <th>title</th>\n",
              "      <th>vote_count</th>\n",
              "      <th>vote_average</th>\n",
              "      <th>year</th>\n",
              "      <th>wr</th>\n",
              "    </tr>\n",
              "  </thead>\n",
              "  <tbody>\n",
              "    <tr>\n",
              "      <th>7648</th>\n",
              "      <td>Inception</td>\n",
              "      <td>14075</td>\n",
              "      <td>8</td>\n",
              "      <td>2010</td>\n",
              "      <td>7.917588</td>\n",
              "    </tr>\n",
              "    <tr>\n",
              "      <th>8613</th>\n",
              "      <td>Interstellar</td>\n",
              "      <td>11187</td>\n",
              "      <td>8</td>\n",
              "      <td>2014</td>\n",
              "      <td>7.897107</td>\n",
              "    </tr>\n",
              "    <tr>\n",
              "      <th>6623</th>\n",
              "      <td>The Prestige</td>\n",
              "      <td>4510</td>\n",
              "      <td>8</td>\n",
              "      <td>2006</td>\n",
              "      <td>7.758148</td>\n",
              "    </tr>\n",
              "    <tr>\n",
              "      <th>3381</th>\n",
              "      <td>Memento</td>\n",
              "      <td>4168</td>\n",
              "      <td>8</td>\n",
              "      <td>2000</td>\n",
              "      <td>7.740175</td>\n",
              "    </tr>\n",
              "    <tr>\n",
              "      <th>8031</th>\n",
              "      <td>The Dark Knight Rises</td>\n",
              "      <td>9263</td>\n",
              "      <td>7</td>\n",
              "      <td>2012</td>\n",
              "      <td>6.921448</td>\n",
              "    </tr>\n",
              "    <tr>\n",
              "      <th>6218</th>\n",
              "      <td>Batman Begins</td>\n",
              "      <td>7511</td>\n",
              "      <td>7</td>\n",
              "      <td>2005</td>\n",
              "      <td>6.904127</td>\n",
              "    </tr>\n",
              "    <tr>\n",
              "      <th>7583</th>\n",
              "      <td>Kick-Ass</td>\n",
              "      <td>4747</td>\n",
              "      <td>7</td>\n",
              "      <td>2010</td>\n",
              "      <td>6.852979</td>\n",
              "    </tr>\n",
              "    <tr>\n",
              "      <th>8419</th>\n",
              "      <td>Man of Steel</td>\n",
              "      <td>6462</td>\n",
              "      <td>6</td>\n",
              "      <td>2013</td>\n",
              "      <td>5.952478</td>\n",
              "    </tr>\n",
              "    <tr>\n",
              "      <th>8467</th>\n",
              "      <td>Kick-Ass 2</td>\n",
              "      <td>2275</td>\n",
              "      <td>6</td>\n",
              "      <td>2013</td>\n",
              "      <td>5.879027</td>\n",
              "    </tr>\n",
              "    <tr>\n",
              "      <th>9024</th>\n",
              "      <td>Batman v Superman: Dawn of Justice</td>\n",
              "      <td>7189</td>\n",
              "      <td>5</td>\n",
              "      <td>2016</td>\n",
              "      <td>5.013943</td>\n",
              "    </tr>\n",
              "  </tbody>\n",
              "</table>\n",
              "</div>"
            ],
            "text/plain": [
              "                                   title  vote_count  vote_average  year  \\\n",
              "7648                           Inception       14075             8  2010   \n",
              "8613                        Interstellar       11187             8  2014   \n",
              "6623                        The Prestige        4510             8  2006   \n",
              "3381                             Memento        4168             8  2000   \n",
              "8031               The Dark Knight Rises        9263             7  2012   \n",
              "6218                       Batman Begins        7511             7  2005   \n",
              "7583                            Kick-Ass        4747             7  2010   \n",
              "8419                        Man of Steel        6462             6  2013   \n",
              "8467                          Kick-Ass 2        2275             6  2013   \n",
              "9024  Batman v Superman: Dawn of Justice        7189             5  2016   \n",
              "\n",
              "            wr  \n",
              "7648  7.917588  \n",
              "8613  7.897107  \n",
              "6623  7.758148  \n",
              "3381  7.740175  \n",
              "8031  6.921448  \n",
              "6218  6.904127  \n",
              "7583  6.852979  \n",
              "8419  5.952478  \n",
              "8467  5.879027  \n",
              "9024  5.013943  "
            ]
          },
          "execution_count": 41,
          "metadata": {},
          "output_type": "execute_result"
        }
      ],
      "source": [
        "raccomandazione_metadati('The Dark Knight').head(25)"
      ]
    },
    {
      "cell_type": "markdown",
      "metadata": {
        "id": "b_T35VVV5VhS"
      },
      "source": [
        "# **Applicazione sistema per consigliare un film ad un certo utente utilizzando i metadati dei film che ha apprezzato**\n"
      ]
    },
    {
      "cell_type": "code",
      "execution_count": 42,
      "metadata": {
        "colab": {
          "base_uri": "https://localhost:8080/"
        },
        "id": "w3PgDM6m3N6P",
        "outputId": "3996bcb6-951f-42a7-d064-3f492f63f03c"
      },
      "outputs": [
        {
          "data": {
            "text/plain": [
              "(9219, 33)"
            ]
          },
          "execution_count": 42,
          "metadata": {},
          "output_type": "execute_result"
        }
      ],
      "source": [
        "film_meta.shape"
      ]
    },
    {
      "cell_type": "code",
      "execution_count": 43,
      "metadata": {
        "colab": {
          "base_uri": "https://localhost:8080/",
          "height": 424
        },
        "id": "hPvNbF_d9Th2",
        "outputId": "9a8acfd4-3bb8-4d3e-b823-db7e2e4da7f1"
      },
      "outputs": [
        {
          "data": {
            "text/html": [
              "<div>\n",
              "<style scoped>\n",
              "    .dataframe tbody tr th:only-of-type {\n",
              "        vertical-align: middle;\n",
              "    }\n",
              "\n",
              "    .dataframe tbody tr th {\n",
              "        vertical-align: top;\n",
              "    }\n",
              "\n",
              "    .dataframe thead th {\n",
              "        text-align: right;\n",
              "    }\n",
              "</style>\n",
              "<table border=\"1\" class=\"dataframe\">\n",
              "  <thead>\n",
              "    <tr style=\"text-align: right;\">\n",
              "      <th></th>\n",
              "      <th>userId</th>\n",
              "      <th>movieId</th>\n",
              "      <th>rating</th>\n",
              "      <th>timestamp</th>\n",
              "    </tr>\n",
              "  </thead>\n",
              "  <tbody>\n",
              "    <tr>\n",
              "      <th>0</th>\n",
              "      <td>1</td>\n",
              "      <td>31</td>\n",
              "      <td>2.5</td>\n",
              "      <td>1260759144</td>\n",
              "    </tr>\n",
              "    <tr>\n",
              "      <th>1</th>\n",
              "      <td>1</td>\n",
              "      <td>1029</td>\n",
              "      <td>3.0</td>\n",
              "      <td>1260759179</td>\n",
              "    </tr>\n",
              "    <tr>\n",
              "      <th>2</th>\n",
              "      <td>1</td>\n",
              "      <td>1061</td>\n",
              "      <td>3.0</td>\n",
              "      <td>1260759182</td>\n",
              "    </tr>\n",
              "    <tr>\n",
              "      <th>3</th>\n",
              "      <td>1</td>\n",
              "      <td>1129</td>\n",
              "      <td>2.0</td>\n",
              "      <td>1260759185</td>\n",
              "    </tr>\n",
              "    <tr>\n",
              "      <th>4</th>\n",
              "      <td>1</td>\n",
              "      <td>1172</td>\n",
              "      <td>4.0</td>\n",
              "      <td>1260759205</td>\n",
              "    </tr>\n",
              "    <tr>\n",
              "      <th>...</th>\n",
              "      <td>...</td>\n",
              "      <td>...</td>\n",
              "      <td>...</td>\n",
              "      <td>...</td>\n",
              "    </tr>\n",
              "    <tr>\n",
              "      <th>99999</th>\n",
              "      <td>671</td>\n",
              "      <td>6268</td>\n",
              "      <td>2.5</td>\n",
              "      <td>1065579370</td>\n",
              "    </tr>\n",
              "    <tr>\n",
              "      <th>100000</th>\n",
              "      <td>671</td>\n",
              "      <td>6269</td>\n",
              "      <td>4.0</td>\n",
              "      <td>1065149201</td>\n",
              "    </tr>\n",
              "    <tr>\n",
              "      <th>100001</th>\n",
              "      <td>671</td>\n",
              "      <td>6365</td>\n",
              "      <td>4.0</td>\n",
              "      <td>1070940363</td>\n",
              "    </tr>\n",
              "    <tr>\n",
              "      <th>100002</th>\n",
              "      <td>671</td>\n",
              "      <td>6385</td>\n",
              "      <td>2.5</td>\n",
              "      <td>1070979663</td>\n",
              "    </tr>\n",
              "    <tr>\n",
              "      <th>100003</th>\n",
              "      <td>671</td>\n",
              "      <td>6565</td>\n",
              "      <td>3.5</td>\n",
              "      <td>1074784724</td>\n",
              "    </tr>\n",
              "  </tbody>\n",
              "</table>\n",
              "<p>100004 rows × 4 columns</p>\n",
              "</div>"
            ],
            "text/plain": [
              "        userId  movieId  rating   timestamp\n",
              "0            1       31     2.5  1260759144\n",
              "1            1     1029     3.0  1260759179\n",
              "2            1     1061     3.0  1260759182\n",
              "3            1     1129     2.0  1260759185\n",
              "4            1     1172     4.0  1260759205\n",
              "...        ...      ...     ...         ...\n",
              "99999      671     6268     2.5  1065579370\n",
              "100000     671     6269     4.0  1065149201\n",
              "100001     671     6365     4.0  1070940363\n",
              "100002     671     6385     2.5  1070979663\n",
              "100003     671     6565     3.5  1074784724\n",
              "\n",
              "[100004 rows x 4 columns]"
            ]
          },
          "execution_count": 43,
          "metadata": {},
          "output_type": "execute_result"
        }
      ],
      "source": [
        "ratings"
      ]
    },
    {
      "cell_type": "code",
      "execution_count": 44,
      "metadata": {
        "id": "azCZQ_bOoo61"
      },
      "outputs": [],
      "source": [
        "def convert_int(x):\n",
        "    try:\n",
        "        return int(x)\n",
        "    except:\n",
        "        return np.nan"
      ]
    },
    {
      "cell_type": "code",
      "execution_count": 45,
      "metadata": {
        "colab": {
          "base_uri": "https://localhost:8080/",
          "height": 424
        },
        "id": "PNDa7OypoyjU",
        "outputId": "80f3e7e6-d24c-466b-9181-231770d25cff"
      },
      "outputs": [
        {
          "data": {
            "text/html": [
              "<div>\n",
              "<style scoped>\n",
              "    .dataframe tbody tr th:only-of-type {\n",
              "        vertical-align: middle;\n",
              "    }\n",
              "\n",
              "    .dataframe tbody tr th {\n",
              "        vertical-align: top;\n",
              "    }\n",
              "\n",
              "    .dataframe thead th {\n",
              "        text-align: right;\n",
              "    }\n",
              "</style>\n",
              "<table border=\"1\" class=\"dataframe\">\n",
              "  <thead>\n",
              "    <tr style=\"text-align: right;\">\n",
              "      <th></th>\n",
              "      <th>movieId</th>\n",
              "      <th>id</th>\n",
              "      <th>title</th>\n",
              "      <th>genres</th>\n",
              "    </tr>\n",
              "  </thead>\n",
              "  <tbody>\n",
              "    <tr>\n",
              "      <th>0</th>\n",
              "      <td>1</td>\n",
              "      <td>862.0</td>\n",
              "      <td>Toy Story</td>\n",
              "      <td>[Animation, Comedy, Family]</td>\n",
              "    </tr>\n",
              "    <tr>\n",
              "      <th>1</th>\n",
              "      <td>2</td>\n",
              "      <td>8844.0</td>\n",
              "      <td>Jumanji</td>\n",
              "      <td>[Adventure, Fantasy, Family]</td>\n",
              "    </tr>\n",
              "    <tr>\n",
              "      <th>2</th>\n",
              "      <td>3</td>\n",
              "      <td>15602.0</td>\n",
              "      <td>Grumpier Old Men</td>\n",
              "      <td>[Romance, Comedy]</td>\n",
              "    </tr>\n",
              "    <tr>\n",
              "      <th>3</th>\n",
              "      <td>4</td>\n",
              "      <td>31357.0</td>\n",
              "      <td>Waiting to Exhale</td>\n",
              "      <td>[Comedy, Drama, Romance]</td>\n",
              "    </tr>\n",
              "    <tr>\n",
              "      <th>4</th>\n",
              "      <td>5</td>\n",
              "      <td>11862.0</td>\n",
              "      <td>Father of the Bride Part II</td>\n",
              "      <td>[Comedy]</td>\n",
              "    </tr>\n",
              "    <tr>\n",
              "      <th>...</th>\n",
              "      <td>...</td>\n",
              "      <td>...</td>\n",
              "      <td>...</td>\n",
              "      <td>...</td>\n",
              "    </tr>\n",
              "    <tr>\n",
              "      <th>9214</th>\n",
              "      <td>161944</td>\n",
              "      <td>159550.0</td>\n",
              "      <td>The Last Brickmaker in America</td>\n",
              "      <td>[Drama]</td>\n",
              "    </tr>\n",
              "    <tr>\n",
              "      <th>9215</th>\n",
              "      <td>162542</td>\n",
              "      <td>392572.0</td>\n",
              "      <td>Rustom</td>\n",
              "      <td>[Thriller, Romance]</td>\n",
              "    </tr>\n",
              "    <tr>\n",
              "      <th>9216</th>\n",
              "      <td>162672</td>\n",
              "      <td>402672.0</td>\n",
              "      <td>Mohenjo Daro</td>\n",
              "      <td>[Adventure, Drama, History, Romance]</td>\n",
              "    </tr>\n",
              "    <tr>\n",
              "      <th>9217</th>\n",
              "      <td>163056</td>\n",
              "      <td>315011.0</td>\n",
              "      <td>Shin Godzilla</td>\n",
              "      <td>[Action, Adventure, Drama, Horror, Science Fic...</td>\n",
              "    </tr>\n",
              "    <tr>\n",
              "      <th>9218</th>\n",
              "      <td>163949</td>\n",
              "      <td>391698.0</td>\n",
              "      <td>The Beatles: Eight Days a Week - The Touring Y...</td>\n",
              "      <td>[Documentary, Music]</td>\n",
              "    </tr>\n",
              "  </tbody>\n",
              "</table>\n",
              "<p>9219 rows × 4 columns</p>\n",
              "</div>"
            ],
            "text/plain": [
              "      movieId        id                                              title  \\\n",
              "0           1     862.0                                          Toy Story   \n",
              "1           2    8844.0                                            Jumanji   \n",
              "2           3   15602.0                                   Grumpier Old Men   \n",
              "3           4   31357.0                                  Waiting to Exhale   \n",
              "4           5   11862.0                        Father of the Bride Part II   \n",
              "...       ...       ...                                                ...   \n",
              "9214   161944  159550.0                     The Last Brickmaker in America   \n",
              "9215   162542  392572.0                                             Rustom   \n",
              "9216   162672  402672.0                                       Mohenjo Daro   \n",
              "9217   163056  315011.0                                      Shin Godzilla   \n",
              "9218   163949  391698.0  The Beatles: Eight Days a Week - The Touring Y...   \n",
              "\n",
              "                                                 genres  \n",
              "0                           [Animation, Comedy, Family]  \n",
              "1                          [Adventure, Fantasy, Family]  \n",
              "2                                     [Romance, Comedy]  \n",
              "3                              [Comedy, Drama, Romance]  \n",
              "4                                              [Comedy]  \n",
              "...                                                 ...  \n",
              "9214                                            [Drama]  \n",
              "9215                                [Thriller, Romance]  \n",
              "9216               [Adventure, Drama, History, Romance]  \n",
              "9217  [Action, Adventure, Drama, Horror, Science Fic...  \n",
              "9218                               [Documentary, Music]  \n",
              "\n",
              "[9219 rows x 4 columns]"
            ]
          },
          "execution_count": 45,
          "metadata": {},
          "output_type": "execute_result"
        }
      ],
      "source": [
        "#Per andare a collegare i file contenenti le valutazioni degli utenti e i dati relativi ad ogni film\n",
        "#viene utilizzato il il dataframe links_small che associa ad ogni movieId i relativi metadati\n",
        "id_map =  pd.read_csv('archive/links_small.csv')[['movieId', 'tmdbId']]\n",
        "id_map['tmdbId'] = id_map['tmdbId'].apply(convert_int)\n",
        "id_map.columns = ['movieId', 'id']\n",
        "id_map = id_map.merge(film_meta[['title', 'id','genres']], on='id')\n",
        "id_map"
      ]
    },
    {
      "cell_type": "code",
      "execution_count": 46,
      "metadata": {
        "colab": {
          "base_uri": "https://localhost:8080/",
          "height": 455
        },
        "id": "e6n4hM6cpFdl",
        "outputId": "73e04624-4e2d-44a8-ec5b-0cc90a806e3f"
      },
      "outputs": [
        {
          "data": {
            "text/html": [
              "<div>\n",
              "<style scoped>\n",
              "    .dataframe tbody tr th:only-of-type {\n",
              "        vertical-align: middle;\n",
              "    }\n",
              "\n",
              "    .dataframe tbody tr th {\n",
              "        vertical-align: top;\n",
              "    }\n",
              "\n",
              "    .dataframe thead th {\n",
              "        text-align: right;\n",
              "    }\n",
              "</style>\n",
              "<table border=\"1\" class=\"dataframe\">\n",
              "  <thead>\n",
              "    <tr style=\"text-align: right;\">\n",
              "      <th></th>\n",
              "      <th>movieId</th>\n",
              "      <th>title</th>\n",
              "      <th>genres</th>\n",
              "    </tr>\n",
              "    <tr>\n",
              "      <th>id</th>\n",
              "      <th></th>\n",
              "      <th></th>\n",
              "      <th></th>\n",
              "    </tr>\n",
              "  </thead>\n",
              "  <tbody>\n",
              "    <tr>\n",
              "      <th>862.0</th>\n",
              "      <td>1</td>\n",
              "      <td>Toy Story</td>\n",
              "      <td>[Animation, Comedy, Family]</td>\n",
              "    </tr>\n",
              "    <tr>\n",
              "      <th>8844.0</th>\n",
              "      <td>2</td>\n",
              "      <td>Jumanji</td>\n",
              "      <td>[Adventure, Fantasy, Family]</td>\n",
              "    </tr>\n",
              "    <tr>\n",
              "      <th>15602.0</th>\n",
              "      <td>3</td>\n",
              "      <td>Grumpier Old Men</td>\n",
              "      <td>[Romance, Comedy]</td>\n",
              "    </tr>\n",
              "    <tr>\n",
              "      <th>31357.0</th>\n",
              "      <td>4</td>\n",
              "      <td>Waiting to Exhale</td>\n",
              "      <td>[Comedy, Drama, Romance]</td>\n",
              "    </tr>\n",
              "    <tr>\n",
              "      <th>11862.0</th>\n",
              "      <td>5</td>\n",
              "      <td>Father of the Bride Part II</td>\n",
              "      <td>[Comedy]</td>\n",
              "    </tr>\n",
              "    <tr>\n",
              "      <th>...</th>\n",
              "      <td>...</td>\n",
              "      <td>...</td>\n",
              "      <td>...</td>\n",
              "    </tr>\n",
              "    <tr>\n",
              "      <th>159550.0</th>\n",
              "      <td>161944</td>\n",
              "      <td>The Last Brickmaker in America</td>\n",
              "      <td>[Drama]</td>\n",
              "    </tr>\n",
              "    <tr>\n",
              "      <th>392572.0</th>\n",
              "      <td>162542</td>\n",
              "      <td>Rustom</td>\n",
              "      <td>[Thriller, Romance]</td>\n",
              "    </tr>\n",
              "    <tr>\n",
              "      <th>402672.0</th>\n",
              "      <td>162672</td>\n",
              "      <td>Mohenjo Daro</td>\n",
              "      <td>[Adventure, Drama, History, Romance]</td>\n",
              "    </tr>\n",
              "    <tr>\n",
              "      <th>315011.0</th>\n",
              "      <td>163056</td>\n",
              "      <td>Shin Godzilla</td>\n",
              "      <td>[Action, Adventure, Drama, Horror, Science Fic...</td>\n",
              "    </tr>\n",
              "    <tr>\n",
              "      <th>391698.0</th>\n",
              "      <td>163949</td>\n",
              "      <td>The Beatles: Eight Days a Week - The Touring Y...</td>\n",
              "      <td>[Documentary, Music]</td>\n",
              "    </tr>\n",
              "  </tbody>\n",
              "</table>\n",
              "<p>9219 rows × 3 columns</p>\n",
              "</div>"
            ],
            "text/plain": [
              "          movieId                                              title  \\\n",
              "id                                                                     \n",
              "862.0           1                                          Toy Story   \n",
              "8844.0          2                                            Jumanji   \n",
              "15602.0         3                                   Grumpier Old Men   \n",
              "31357.0         4                                  Waiting to Exhale   \n",
              "11862.0         5                        Father of the Bride Part II   \n",
              "...           ...                                                ...   \n",
              "159550.0   161944                     The Last Brickmaker in America   \n",
              "392572.0   162542                                             Rustom   \n",
              "402672.0   162672                                       Mohenjo Daro   \n",
              "315011.0   163056                                      Shin Godzilla   \n",
              "391698.0   163949  The Beatles: Eight Days a Week - The Touring Y...   \n",
              "\n",
              "                                                     genres  \n",
              "id                                                           \n",
              "862.0                           [Animation, Comedy, Family]  \n",
              "8844.0                         [Adventure, Fantasy, Family]  \n",
              "15602.0                                   [Romance, Comedy]  \n",
              "31357.0                            [Comedy, Drama, Romance]  \n",
              "11862.0                                            [Comedy]  \n",
              "...                                                     ...  \n",
              "159550.0                                            [Drama]  \n",
              "392572.0                                [Thriller, Romance]  \n",
              "402672.0               [Adventure, Drama, History, Romance]  \n",
              "315011.0  [Action, Adventure, Drama, Horror, Science Fic...  \n",
              "391698.0                               [Documentary, Music]  \n",
              "\n",
              "[9219 rows x 3 columns]"
            ]
          },
          "execution_count": 46,
          "metadata": {},
          "output_type": "execute_result"
        }
      ],
      "source": [
        "indices_map = id_map.set_index('id')\n",
        "indices_map"
      ]
    },
    {
      "cell_type": "code",
      "execution_count": 47,
      "metadata": {
        "id": "ZWSo1om1Oo1f"
      },
      "outputs": [],
      "source": [
        "#Funzione per trovare i film recensiti da un utente\n",
        "def get_movies_watched_by(userID):\n",
        " user_filter = ratings['userId'] == userID \n",
        " movies_watched = ratings[user_filter]\n",
        " filter = movies_watched['rating'] > 3\n",
        " movies_watched= movies_watched[filter]\n",
        " return movies_watched"
      ]
    },
    {
      "cell_type": "code",
      "execution_count": 48,
      "metadata": {
        "id": "myj87PdnOW4M"
      },
      "outputs": [],
      "source": [
        "#Funzione per generare delle raccomandazioni per un utente in base ai film che ha valuato positivamente. \n",
        "#Verranno quindi consigliati dei film simili a quelli cha ha già valutato.\n",
        "def get_movie_recommendations_for(userID):\n",
        " movies_watched = get_movies_watched_by(userID)\n",
        " similar_movies = []\n",
        " for index, row in movies_watched.iterrows():\n",
        "    sim_movies = list(enumerate(cosine_sim[index]))\n",
        "    sim_movies_sorted = sorted(sim_movies, key=lambda movieid_score_tuple: movieid_score_tuple[1], reverse=True)\n",
        "    similar_movies = similar_movies + sim_movies_sorted[1:8]\n",
        "\n",
        " similar_movies = sorted(similar_movies, key=lambda movieid_score_tuple: movieid_score_tuple[1], reverse=True)\n",
        " top_10_recommendations = similar_movies\n",
        " results_2 = list()\n",
        " for movie_score in top_10_recommendations:\n",
        "    movie_index = movie_score[0]\n",
        "    movie_score = movie_score[1]\n",
        "    t = (userID, movie_index, movie_score)\n",
        "    results_2.append(t)\n",
        " return results_2\n"
      ]
    },
    {
      "cell_type": "code",
      "execution_count": 49,
      "metadata": {
        "colab": {
          "base_uri": "https://localhost:8080/",
          "height": 363
        },
        "id": "xrymU8gA8IMa",
        "outputId": "ab35b0f5-89be-4f31-a864-0aadf0d7b3e6"
      },
      "outputs": [
        {
          "data": {
            "text/html": [
              "<div>\n",
              "<style scoped>\n",
              "    .dataframe tbody tr th:only-of-type {\n",
              "        vertical-align: middle;\n",
              "    }\n",
              "\n",
              "    .dataframe tbody tr th {\n",
              "        vertical-align: top;\n",
              "    }\n",
              "\n",
              "    .dataframe thead th {\n",
              "        text-align: right;\n",
              "    }\n",
              "</style>\n",
              "<table border=\"1\" class=\"dataframe\">\n",
              "  <thead>\n",
              "    <tr style=\"text-align: right;\">\n",
              "      <th></th>\n",
              "      <th>userID</th>\n",
              "      <th>score</th>\n",
              "      <th>movieId</th>\n",
              "      <th>title</th>\n",
              "      <th>genres</th>\n",
              "    </tr>\n",
              "  </thead>\n",
              "  <tbody>\n",
              "    <tr>\n",
              "      <th>0</th>\n",
              "      <td>25</td>\n",
              "      <td>0.337396</td>\n",
              "      <td>523</td>\n",
              "      <td>Ruby in Paradise</td>\n",
              "      <td>[Drama, Romance]</td>\n",
              "    </tr>\n",
              "    <tr>\n",
              "      <th>1</th>\n",
              "      <td>25</td>\n",
              "      <td>0.307564</td>\n",
              "      <td>3852</td>\n",
              "      <td>The Tao of Steve</td>\n",
              "      <td>[Comedy, Romance]</td>\n",
              "    </tr>\n",
              "    <tr>\n",
              "      <th>2</th>\n",
              "      <td>25</td>\n",
              "      <td>0.302981</td>\n",
              "      <td>1378</td>\n",
              "      <td>Young Guns</td>\n",
              "      <td>[Crime, Action, Adventure, Drama, Western]</td>\n",
              "    </tr>\n",
              "    <tr>\n",
              "      <th>3</th>\n",
              "      <td>25</td>\n",
              "      <td>0.279985</td>\n",
              "      <td>5732</td>\n",
              "      <td>Eye of the Needle</td>\n",
              "      <td>[Action, Drama, Romance, Thriller]</td>\n",
              "    </tr>\n",
              "    <tr>\n",
              "      <th>4</th>\n",
              "      <td>25</td>\n",
              "      <td>0.257135</td>\n",
              "      <td>6027</td>\n",
              "      <td>Dogfight</td>\n",
              "      <td>[War, Drama, Romance]</td>\n",
              "    </tr>\n",
              "    <tr>\n",
              "      <th>5</th>\n",
              "      <td>25</td>\n",
              "      <td>0.235413</td>\n",
              "      <td>6762</td>\n",
              "      <td>Yossi &amp; Jagger</td>\n",
              "      <td>[War, Drama, Romance]</td>\n",
              "    </tr>\n",
              "    <tr>\n",
              "      <th>6</th>\n",
              "      <td>25</td>\n",
              "      <td>0.224954</td>\n",
              "      <td>3342</td>\n",
              "      <td>Birdy</td>\n",
              "      <td>[Drama, History]</td>\n",
              "    </tr>\n",
              "    <tr>\n",
              "      <th>7</th>\n",
              "      <td>25</td>\n",
              "      <td>0.203627</td>\n",
              "      <td>2714</td>\n",
              "      <td>The Wood</td>\n",
              "      <td>[Comedy, Drama, Romance]</td>\n",
              "    </tr>\n",
              "    <tr>\n",
              "      <th>8</th>\n",
              "      <td>25</td>\n",
              "      <td>0.195624</td>\n",
              "      <td>4679</td>\n",
              "      <td>Uncle Buck</td>\n",
              "      <td>[Comedy, Drama, Family]</td>\n",
              "    </tr>\n",
              "    <tr>\n",
              "      <th>9</th>\n",
              "      <td>25</td>\n",
              "      <td>0.193625</td>\n",
              "      <td>2382</td>\n",
              "      <td>Police Academy 5: Assignment Miami Beach</td>\n",
              "      <td>[Comedy, Crime]</td>\n",
              "    </tr>\n",
              "  </tbody>\n",
              "</table>\n",
              "</div>"
            ],
            "text/plain": [
              "   userID     score  movieId                                     title  \\\n",
              "0      25  0.337396      523                          Ruby in Paradise   \n",
              "1      25  0.307564     3852                          The Tao of Steve   \n",
              "2      25  0.302981     1378                                Young Guns   \n",
              "3      25  0.279985     5732                         Eye of the Needle   \n",
              "4      25  0.257135     6027                                  Dogfight   \n",
              "5      25  0.235413     6762                            Yossi & Jagger   \n",
              "6      25  0.224954     3342                                     Birdy   \n",
              "7      25  0.203627     2714                                  The Wood   \n",
              "8      25  0.195624     4679                                Uncle Buck   \n",
              "9      25  0.193625     2382  Police Academy 5: Assignment Miami Beach   \n",
              "\n",
              "                                       genres  \n",
              "0                            [Drama, Romance]  \n",
              "1                           [Comedy, Romance]  \n",
              "2  [Crime, Action, Adventure, Drama, Western]  \n",
              "3          [Action, Drama, Romance, Thriller]  \n",
              "4                       [War, Drama, Romance]  \n",
              "5                       [War, Drama, Romance]  \n",
              "6                            [Drama, History]  \n",
              "7                    [Comedy, Drama, Romance]  \n",
              "8                     [Comedy, Drama, Family]  \n",
              "9                             [Comedy, Crime]  "
            ]
          },
          "metadata": {},
          "output_type": "display_data"
        }
      ],
      "source": [
        "results = get_movie_recommendations_for(25)\n",
        "resu=pd.DataFrame(results,columns=['userID','movie_index', 'score'])\n",
        "\n",
        "fil=film_meta[['id','title','genres']]\n",
        "\n",
        "f=pd.merge(resu,id_map,how='inner',left_on='movie_index',right_on='movieId')\n",
        "f.drop_duplicates(subset=['movie_index'], keep='first', inplace=True)\n",
        "f.drop(['movie_index','id',], axis=1, inplace=True)\n",
        "display(f.head(10))"
      ]
    },
    {
      "cell_type": "markdown",
      "metadata": {},
      "source": [
        "# **Sistema di filtraggio collaborativo**\n",
        "Utilizzare le recensioni degli utenti nel dataframe ratings per consigliare dei film ad uno specifico utente"
      ]
    },
    {
      "cell_type": "code",
      "execution_count": 50,
      "metadata": {
        "id": "WMLp0hlv1M7J"
      },
      "outputs": [],
      "source": [
        "#Split dei dati tra train e test\n",
        "reader = Reader(rating_scale=(1, 5))\n",
        "data = Dataset.load_from_df(ratings[['userId', 'movieId', 'rating']], reader)\n",
        "\n",
        "trainset, testset = train_test_split(data, test_size=.25)"
      ]
    },
    {
      "cell_type": "code",
      "execution_count": 51,
      "metadata": {
        "colab": {
          "base_uri": "https://localhost:8080/",
          "height": 86
        },
        "id": "fbjRoGKL9JRS",
        "outputId": "5e8917e8-7bde-459e-e488-92b8545be485"
      },
      "outputs": [
        {
          "name": "stdout",
          "output_type": "stream",
          "text": [
            "RMSE: 0.8998\n"
          ]
        },
        {
          "data": {
            "text/plain": [
              "0.8997598593034548"
            ]
          },
          "metadata": {},
          "output_type": "display_data"
        },
        {
          "name": "stdout",
          "output_type": "stream",
          "text": [
            "MAE:  0.6920\n"
          ]
        },
        {
          "data": {
            "text/plain": [
              "0.6919755368509671"
            ]
          },
          "metadata": {},
          "output_type": "display_data"
        }
      ],
      "source": [
        "#Addestramento modello SVD\n",
        "svd=SVD()\n",
        "\n",
        "svd.fit(trainset)\n",
        "prediction = svd.test(testset)\n",
        "\n",
        "# Calcolo RMSE e MAE\n",
        "display(accuracy.rmse(prediction))\n",
        "display(accuracy.mae(prediction))"
      ]
    },
    {
      "cell_type": "code",
      "execution_count": 52,
      "metadata": {
        "colab": {
          "base_uri": "https://localhost:8080/"
        },
        "id": "hYx64klc9fTr",
        "outputId": "00fd1e83-96d9-49ee-b403-35dcdea4bcee"
      },
      "outputs": [
        {
          "name": "stdout",
          "output_type": "stream",
          "text": [
            "Evaluating RMSE, MAE of algorithm SVD on 5 split(s).\n",
            "\n",
            "                  Fold 1  Fold 2  Fold 3  Fold 4  Fold 5  Mean    Std     \n",
            "RMSE (testset)    0.8981  0.9055  0.8883  0.8976  0.8944  0.8968  0.0056  \n",
            "MAE (testset)     0.6919  0.6952  0.6853  0.6898  0.6860  0.6896  0.0037  \n",
            "Fit time          0.98    0.95    1.13    1.04    1.41    1.10    0.17    \n",
            "Test time         0.26    0.22    0.20    0.34    0.23    0.25    0.05    \n"
          ]
        },
        {
          "data": {
            "text/plain": [
              "{'test_rmse': array([0.89808237, 0.90546217, 0.88831171, 0.8975781 , 0.89439479]),\n",
              " 'test_mae': array([0.69192365, 0.6952228 , 0.6852887 , 0.68976251, 0.68603315]),\n",
              " 'fit_time': (0.9793703556060791,\n",
              "  0.9455289840698242,\n",
              "  1.1260197162628174,\n",
              "  1.0371739864349365,\n",
              "  1.4132142066955566),\n",
              " 'test_time': (0.25531673431396484,\n",
              "  0.22135019302368164,\n",
              "  0.20444154739379883,\n",
              "  0.34307861328125,\n",
              "  0.23138070106506348)}"
            ]
          },
          "execution_count": 52,
          "metadata": {},
          "output_type": "execute_result"
        }
      ],
      "source": [
        "cross_validate(svd, data, measures=['RMSE', 'MAE'], cv=5, verbose=True)"
      ]
    },
    {
      "cell_type": "code",
      "execution_count": 53,
      "metadata": {
        "colab": {
          "base_uri": "https://localhost:8080/",
          "height": 469
        },
        "id": "Cysv3tBAALHz",
        "outputId": "ca6ef93f-0d54-46fb-acc0-529f08f2d1df"
      },
      "outputs": [
        {
          "name": "stdout",
          "output_type": "stream",
          "text": [
            "RMSE: 0.8836\n",
            "RMSE: 0.8859\n",
            "RMSE: 0.8817\n",
            "RMSE: 0.8831\n",
            "RMSE: 0.8813\n",
            "RMSE: 0.8794\n",
            "RMSE: 0.8806\n",
            "RMSE: 0.8777\n"
          ]
        },
        {
          "data": {
            "text/plain": [
              "Text(0.5, 1.0, 'RMSE vs Factors')"
            ]
          },
          "execution_count": 53,
          "metadata": {},
          "output_type": "execute_result"
        },
        {
          "data": {
            "image/png": "[encoded data removed]",
            "text/plain": [
              "<Figure size 640x480 with 1 Axes>"
            ]
          },
          "metadata": {},
          "output_type": "display_data"
        }
      ],
      "source": [
        "#Factors vs RMSE\n",
        "validationset = trainset.build_testset()\n",
        "training_rmse = []\n",
        "testing_rmse =[]\n",
        "number_of_factors_list = [10,20,25,30,35,40,50,100]\n",
        "for factor in number_of_factors_list:\n",
        " model = SVD(n_factors=factor,n_epochs=50,lr_all=0.01,reg_all=0.1)\n",
        " model.fit(trainset)\n",
        " test_predictions = model.test(testset)\n",
        " testing_rmse.append(accuracy.rmse(test_predictions))\n",
        "plt.figure(0)\n",
        "plt.plot(number_of_factors_list,testing_rmse, 'b.--', markersize=12, markeredgecolor='r')\n",
        "plt.xlabel('No of factors')\n",
        "plt.ylabel('RMSE')\n",
        "plt.title(\"RMSE vs Factors\")"
      ]
    },
    {
      "cell_type": "code",
      "execution_count": 54,
      "metadata": {
        "colab": {
          "base_uri": "https://localhost:8080/",
          "height": 416
        },
        "id": "5o6J09BBCkti",
        "outputId": "e76006ac-08d4-43ca-b485-c6503440a390"
      },
      "outputs": [
        {
          "name": "stdout",
          "output_type": "stream",
          "text": [
            "RMSE: 0.8934\n",
            "RMSE: 0.8869\n",
            "RMSE: 0.8807\n",
            "RMSE: 0.8786\n",
            "RMSE: 0.8775\n"
          ]
        },
        {
          "data": {
            "text/plain": [
              "Text(0.5, 1.0, 'RMSE vs Epochs')"
            ]
          },
          "execution_count": 54,
          "metadata": {},
          "output_type": "execute_result"
        },
        {
          "data": {
            "image/png": "[encoded data removed]",
            "text/plain": [
              "<Figure size 640x480 with 1 Axes>"
            ]
          },
          "metadata": {},
          "output_type": "display_data"
        }
      ],
      "source": [
        "#Epochs vs RMSE\n",
        "training_rmse = []\n",
        "testing_rmse =[]\n",
        "number_of_epochs_list = [10,20,30,40,50]\n",
        "for epoch in number_of_epochs_list:\n",
        " model = SVD(n_factors=100,n_epochs=epoch,lr_all=0.01,reg_all=0.1)\n",
        " model.fit(trainset)\n",
        " test_predictions = model.test(testset)\n",
        " testing_rmse.append(accuracy.rmse(test_predictions))\n",
        "plt.figure(1)\n",
        "plt.plot(number_of_epochs_list,testing_rmse, 'b.--', markersize=12,markeredgecolor='r')\n",
        "plt.xlabel('No of epochs')\n",
        "plt.ylabel('RMSE')\n",
        "plt.title(\"RMSE vs Epochs\")\n",
        "\n"
      ]
    },
    {
      "cell_type": "code",
      "execution_count": 55,
      "metadata": {
        "colab": {
          "base_uri": "https://localhost:8080/",
          "height": 521
        },
        "id": "om72M4hOCsb_",
        "outputId": "e526231c-1911-402f-9231-8109968a47cb"
      },
      "outputs": [
        {
          "name": "stdout",
          "output_type": "stream",
          "text": [
            "RMSE: 1.0618\n",
            "RMSE: 1.0669\n",
            "RMSE: 0.8365\n",
            "RMSE: 0.9022\n",
            "RMSE: 0.5688\n",
            "RMSE: 0.8784\n",
            "RMSE: 0.5526\n",
            "RMSE: 0.8785\n",
            "RMSE: 0.4883\n",
            "RMSE: 0.8980\n",
            "RMSE: 0.4988\n",
            "RMSE: 0.9016\n"
          ]
        },
        {
          "data": {
            "text/plain": [
              "<matplotlib.legend.Legend at 0x1ba84301900>"
            ]
          },
          "execution_count": 55,
          "metadata": {},
          "output_type": "execute_result"
        },
        {
          "data": {
            "image/png": "[encoded data removed]",
            "text/plain": [
              "<Figure size 640x480 with 1 Axes>"
            ]
          },
          "metadata": {},
          "output_type": "display_data"
        }
      ],
      "source": [
        "#Learning rate rispetto a RMSE\n",
        "training_rmse = []\n",
        "testing_rmse =[]\n",
        "learning_rate_list = [0,0.001,0.009,0.01,0.09,0.1]\n",
        "for lr in learning_rate_list:\n",
        " model = SVD(n_factors=100,n_epochs=50,lr_all=lr,reg_all=0.1)\n",
        " model.fit(trainset)\n",
        " training_predictions = model.test(validationset)\n",
        " training_rmse.append(accuracy.rmse(training_predictions))\n",
        " test_predictions = model.test(testset)\n",
        " testing_rmse.append(accuracy.rmse(test_predictions))\n",
        "plt.figure(2)\n",
        "plt.plot(learning_rate_list,testing_rmse, 'b.--', markersize=12,markeredgecolor='r',label='testing')\n",
        "plt.plot(learning_rate_list,training_rmse, 'g.--', markersize=12,markeredgecolor='r',label='training')\n",
        "plt.xlabel('Learning rate')\n",
        "plt.ylabel('RMSE')\n",
        "plt.title(\"RMSE vs Learning rate\")\n",
        "plt.legend()\n"
      ]
    },
    {
      "cell_type": "code",
      "execution_count": 56,
      "metadata": {
        "colab": {
          "base_uri": "https://localhost:8080/",
          "height": 521
        },
        "id": "c-HEaYQjC1IZ",
        "outputId": "aa4b7bf8-a3e3-404e-9013-521788d797c2"
      },
      "outputs": [
        {
          "name": "stdout",
          "output_type": "stream",
          "text": [
            "RMSE: 0.0792\n",
            "RMSE: 0.9999\n",
            "RMSE: 0.0825\n",
            "RMSE: 0.9807\n",
            "RMSE: 0.1209\n",
            "RMSE: 0.9354\n",
            "RMSE: 0.1260\n",
            "RMSE: 0.9368\n",
            "RMSE: 0.5137\n",
            "RMSE: 0.8792\n",
            "RMSE: 0.5529\n",
            "RMSE: 0.8796\n"
          ]
        },
        {
          "data": {
            "text/plain": [
              "<matplotlib.legend.Legend at 0x1ba843a98d0>"
            ]
          },
          "execution_count": 56,
          "metadata": {},
          "output_type": "execute_result"
        },
        {
          "data": {
            "image/png": "[encoded data removed]",
            "text/plain": [
              "<Figure size 640x480 with 1 Axes>"
            ]
          },
          "metadata": {},
          "output_type": "display_data"
        }
      ],
      "source": [
        "#Regularization parameter vs RMSE\n",
        "\n",
        "training_rmse = []\n",
        "testing_rmse =[]\n",
        "regularization_parameter_list = [0,0.001,0.009,0.01,0.09,0.1]\n",
        "for reg in regularization_parameter_list:\n",
        " model = SVD(n_factors=100,n_epochs=50,lr_all=0.01,reg_all=reg)\n",
        " model.fit(trainset)\n",
        " training_predictions = model.test(validationset)\n",
        " training_rmse.append(accuracy.rmse(training_predictions))\n",
        " test_predictions = model.test(testset)\n",
        " testing_rmse.append(accuracy.rmse(test_predictions))\n",
        "plt.figure(3)\n",
        "plt.plot(regularization_parameter_list,testing_rmse, 'b.--',markersize=12, markeredgecolor='r',label='testing')\n",
        "plt.plot(regularization_parameter_list,training_rmse, 'g.--',markersize=12, markeredgecolor='r',label='training')\n",
        "plt.xlabel('Regularization parameter')\n",
        "plt.ylabel('RMSE')\n",
        "plt.title(\"RMSE vs Regularization\")\n",
        "plt.legend()\n"
      ]
    },
    {
      "cell_type": "code",
      "execution_count": 61,
      "metadata": {
        "id": "SfBD9q2clYYQ"
      },
      "outputs": [],
      "source": [
        "#Gridsearch per trovare i miglior hyperparametri\n",
        "number_of_factors_list = [10,20,25,30,35,40,50,100]\n",
        "number_of_epochs_list = [10,20,30,40,50]\n",
        "learning_rate_list = [0.9,0.09,0.009,0.1,0.01,0.001]\n",
        "regularization_parameter_list = [0.9,0.09,0.009,0.1,0.01,0.001]\n",
        "hyper_parameters_set = { 'n_factors': number_of_factors_list,'n_epochs': number_of_epochs_list, 'lr_all':learning_rate_list,'reg_all': regularization_parameter_list}\n",
        "trained_model = SVD\n",
        "best_model_selection = GridSearchCV(trained_model,hyper_parameters_set,measures=['rmse'],cv=4)\n",
        "best_model_selection.fit(data)\n",
        "print(\"Migliori parametri:\",best_model_selection.best_params['rmse'])"
      ]
    },
    {
      "cell_type": "code",
      "execution_count": null,
      "metadata": {
        "colab": {
          "base_uri": "https://localhost:8080/",
          "height": 86
        },
        "id": "8kjzcLMRke0L",
        "outputId": "c49dc7e5-17a7-48a2-a9cc-d6f1bae2f337"
      },
      "outputs": [
        {
          "name": "stdout",
          "output_type": "stream",
          "text": [
            "RMSE: 0.8739\n"
          ]
        },
        {
          "data": {
            "text/plain": [
              "0.8738533908037057"
            ]
          },
          "metadata": {},
          "output_type": "display_data"
        },
        {
          "name": "stdout",
          "output_type": "stream",
          "text": [
            "MAE:  0.6720\n"
          ]
        },
        {
          "data": {
            "text/plain": [
              "0.6720159047754602"
            ]
          },
          "metadata": {},
          "output_type": "display_data"
        }
      ],
      "source": [
        "#Modello con i miglior hyperparametri\n",
        "svdtuned = SVD(n_factors=100,n_epochs=50,lr_all=0.01,reg_all=0.1)\n",
        "svdtuned.fit(trainset)\n",
        "predictio = svdtuned.test(testset)\n",
        "display(accuracy.rmse(predictio))\n",
        "display(accuracy.mae(predictio))"
      ]
    },
    {
      "cell_type": "code",
      "execution_count": null,
      "metadata": {
        "colab": {
          "base_uri": "https://localhost:8080/",
          "height": 86
        },
        "id": "nT76dWHZoFn7",
        "outputId": "30fdc5cf-c32b-4033-c3df-8fe6f1ef6700"
      },
      "outputs": [
        {
          "name": "stdout",
          "output_type": "stream",
          "text": [
            "RMSE: 0.8860\n"
          ]
        },
        {
          "data": {
            "text/plain": [
              "0.8860212995221466"
            ]
          },
          "metadata": {},
          "output_type": "display_data"
        },
        {
          "name": "stdout",
          "output_type": "stream",
          "text": [
            "MAE:  0.6803\n"
          ]
        },
        {
          "data": {
            "text/plain": [
              "0.6803487460815921"
            ]
          },
          "metadata": {},
          "output_type": "display_data"
        }
      ],
      "source": [
        "#Modello SVDpp\n",
        "svdpp=SVDpp()\n",
        "\n",
        "svdpp.fit(trainset)\n",
        "predictions = svdpp.test(testset)\n",
        "\n",
        "display(accuracy.rmse(predictions))\n",
        "display(accuracy.mae(predictions))\n"
      ]
    },
    {
      "cell_type": "code",
      "execution_count": null,
      "metadata": {
        "id": "6RS6GkEgG64q"
      },
      "outputs": [],
      "source": [
        "#Funzione per generare raccomandazioni per un certo utente attraverso uno dei modelli creati\n",
        "def recomm_svd(userId,modello):\n",
        "    movies = film_meta[['id','title', 'vote_average','genres']]\n",
        "    movies['genres']=movies[\"genres\"].apply(lambda x: \",\".join(x) if isinstance(x, list) else x)\n",
        "    movies['est'] = movies['id'].apply(lambda x: modello.predict(userId, indices_map.loc[x]['movieId']).est)\n",
        "    movies = movies.sort_values('est', ascending=False)\n",
        "    movies.drop('id', axis=1, inplace=True)\n",
        "    return movies.head(10)"
      ]
    },
    {
      "cell_type": "code",
      "execution_count": null,
      "metadata": {
        "colab": {
          "base_uri": "https://localhost:8080/",
          "height": 1000
        },
        "id": "A9JvApTwHdwz",
        "outputId": "5508ca04-07e6-4fac-ec3c-baf3d512124f"
      },
      "outputs": [
        {
          "data": {
            "text/html": [
              "\n",
              "  <div id=\"df-6b2f1554-d20a-4250-9e28-a9a956dfc569\">\n",
              "    <div class=\"colab-df-container\">\n",
              "      <div>\n",
              "<style scoped>\n",
              "    .dataframe tbody tr th:only-of-type {\n",
              "        vertical-align: middle;\n",
              "    }\n",
              "\n",
              "    .dataframe tbody tr th {\n",
              "        vertical-align: top;\n",
              "    }\n",
              "\n",
              "    .dataframe thead th {\n",
              "        text-align: right;\n",
              "    }\n",
              "</style>\n",
              "<table border=\"1\" class=\"dataframe\">\n",
              "  <thead>\n",
              "    <tr style=\"text-align: right;\">\n",
              "      <th></th>\n",
              "      <th>title</th>\n",
              "      <th>vote_average</th>\n",
              "      <th>genres</th>\n",
              "      <th>est</th>\n",
              "    </tr>\n",
              "  </thead>\n",
              "  <tbody>\n",
              "    <tr>\n",
              "      <th>731</th>\n",
              "      <td>Singin' in the Rain</td>\n",
              "      <td>7.9</td>\n",
              "      <td>Comedy,Music,Romance</td>\n",
              "      <td>4.188874</td>\n",
              "    </tr>\n",
              "    <tr>\n",
              "      <th>284</th>\n",
              "      <td>The Shawshank Redemption</td>\n",
              "      <td>8.5</td>\n",
              "      <td>Drama,Crime</td>\n",
              "      <td>4.134203</td>\n",
              "    </tr>\n",
              "    <tr>\n",
              "      <th>1524</th>\n",
              "      <td>On the Waterfront</td>\n",
              "      <td>8.0</td>\n",
              "      <td>Crime,Drama</td>\n",
              "      <td>4.102156</td>\n",
              "    </tr>\n",
              "    <tr>\n",
              "      <th>48</th>\n",
              "      <td>The Usual Suspects</td>\n",
              "      <td>8.1</td>\n",
              "      <td>Drama,Crime,Thriller</td>\n",
              "      <td>4.084207</td>\n",
              "    </tr>\n",
              "    <tr>\n",
              "      <th>2401</th>\n",
              "      <td>Crimes and Misdemeanors</td>\n",
              "      <td>7.4</td>\n",
              "      <td>Comedy,Drama</td>\n",
              "      <td>4.066669</td>\n",
              "    </tr>\n",
              "    <tr>\n",
              "      <th>631</th>\n",
              "      <td>Dr. Strangelove or: How I Learned to Stop Worr...</td>\n",
              "      <td>8.0</td>\n",
              "      <td>Drama,Comedy,War</td>\n",
              "      <td>4.064242</td>\n",
              "    </tr>\n",
              "    <tr>\n",
              "      <th>1641</th>\n",
              "      <td>Roger &amp; Me</td>\n",
              "      <td>7.4</td>\n",
              "      <td>Documentary,History</td>\n",
              "      <td>4.059332</td>\n",
              "    </tr>\n",
              "    <tr>\n",
              "      <th>740</th>\n",
              "      <td>North by Northwest</td>\n",
              "      <td>7.8</td>\n",
              "      <td>Mystery,Thriller</td>\n",
              "      <td>4.056457</td>\n",
              "    </tr>\n",
              "    <tr>\n",
              "      <th>1023</th>\n",
              "      <td>Chinatown</td>\n",
              "      <td>7.9</td>\n",
              "      <td>Crime,Drama,Mystery,Thriller</td>\n",
              "      <td>4.053647</td>\n",
              "    </tr>\n",
              "    <tr>\n",
              "      <th>797</th>\n",
              "      <td>The African Queen</td>\n",
              "      <td>7.4</td>\n",
              "      <td>Adventure,War,Romance</td>\n",
              "      <td>4.040143</td>\n",
              "    </tr>\n",
              "  </tbody>\n",
              "</table>\n",
              "</div>\n",
              "      <button class=\"colab-df-convert\" onclick=\"convertToInteractive('df-6b2f1554-d20a-4250-9e28-a9a956dfc569')\"\n",
              "              title=\"Convert this dataframe to an interactive table.\"\n",
              "              style=\"display:none;\">\n",
              "        \n",
              "  <svg xmlns=\"http://www.w3.org/2000/svg\" height=\"24px\"viewBox=\"0 0 24 24\"\n",
              "       width=\"24px\">\n",
              "    <path d=\"M0 0h24v24H0V0z\" fill=\"none\"/>\n",
              "    <path d=\"M18.56 5.44l.94 2.06.94-2.06 2.06-.94-2.06-.94-.94-2.06-.94 2.06-2.06.94zm-11 1L8.5 8.5l.94-2.06 2.06-.94-2.06-.94L8.5 2.5l-.94 2.06-2.06.94zm10 10l.94 2.06.94-2.06 2.06-.94-2.06-.94-.94-2.06-.94 2.06-2.06.94z\"/><path d=\"M17.41 7.96l-1.37-1.37c-.4-.4-.92-.59-1.43-.59-.52 0-1.04.2-1.43.59L10.3 9.45l-7.72 7.72c-.78.78-.78 2.05 0 2.83L4 21.41c.39.39.9.59 1.41.59.51 0 1.02-.2 1.41-.59l7.78-7.78 2.81-2.81c.8-.78.8-2.07 0-2.86zM5.41 20L4 18.59l7.72-7.72 1.47 1.35L5.41 20z\"/>\n",
              "  </svg>\n",
              "      </button>\n",
              "      \n",
              "  <style>\n",
              "    .colab-df-container {\n",
              "      display:flex;\n",
              "      flex-wrap:wrap;\n",
              "      gap: 12px;\n",
              "    }\n",
              "\n",
              "    .colab-df-convert {\n",
              "      background-color: #E8F0FE;\n",
              "      border: none;\n",
              "      border-radius: 50%;\n",
              "      cursor: pointer;\n",
              "      display: none;\n",
              "      fill: #1967D2;\n",
              "      height: 32px;\n",
              "      padding: 0 0 0 0;\n",
              "      width: 32px;\n",
              "    }\n",
              "\n",
              "    .colab-df-convert:hover {\n",
              "      background-color: #E2EBFA;\n",
              "      box-shadow: 0px 1px 2px rgba(60, 64, 67, 0.3), 0px 1px 3px 1px rgba(60, 64, 67, 0.15);\n",
              "      fill: #174EA6;\n",
              "    }\n",
              "\n",
              "    [theme=dark] .colab-df-convert {\n",
              "      background-color: #3B4455;\n",
              "      fill: #D2E3FC;\n",
              "    }\n",
              "\n",
              "    [theme=dark] .colab-df-convert:hover {\n",
              "      background-color: #434B5C;\n",
              "      box-shadow: 0px 1px 3px 1px rgba(0, 0, 0, 0.15);\n",
              "      filter: drop-shadow(0px 1px 2px rgba(0, 0, 0, 0.3));\n",
              "      fill: #FFFFFF;\n",
              "    }\n",
              "  </style>\n",
              "\n",
              "      <script>\n",
              "        const buttonEl =\n",
              "          document.querySelector('#df-6b2f1554-d20a-4250-9e28-a9a956dfc569 button.colab-df-convert');\n",
              "        buttonEl.style.display =\n",
              "          google.colab.kernel.accessAllowed ? 'block' : 'none';\n",
              "\n",
              "        async function convertToInteractive(key) {\n",
              "          const element = document.querySelector('#df-6b2f1554-d20a-4250-9e28-a9a956dfc569');\n",
              "          const dataTable =\n",
              "            await google.colab.kernel.invokeFunction('convertToInteractive',\n",
              "                                                     [key], {});\n",
              "          if (!dataTable) return;\n",
              "\n",
              "          const docLinkHtml = 'Like what you see? Visit the ' +\n",
              "            '<a target=\"_blank\" href=https://colab.research.google.com/notebooks/data_table.ipynb>data table notebook</a>'\n",
              "            + ' to learn more about interactive tables.';\n",
              "          element.innerHTML = '';\n",
              "          dataTable['output_type'] = 'display_data';\n",
              "          await google.colab.output.renderOutput(dataTable, element);\n",
              "          const docLink = document.createElement('div');\n",
              "          docLink.innerHTML = docLinkHtml;\n",
              "          element.appendChild(docLink);\n",
              "        }\n",
              "      </script>\n",
              "    </div>\n",
              "  </div>\n",
              "  "
            ],
            "text/plain": [
              "                                                  title  vote_average  \\\n",
              "731                                 Singin' in the Rain           7.9   \n",
              "284                            The Shawshank Redemption           8.5   \n",
              "1524                                  On the Waterfront           8.0   \n",
              "48                                   The Usual Suspects           8.1   \n",
              "2401                            Crimes and Misdemeanors           7.4   \n",
              "631   Dr. Strangelove or: How I Learned to Stop Worr...           8.0   \n",
              "1641                                         Roger & Me           7.4   \n",
              "740                                  North by Northwest           7.8   \n",
              "1023                                          Chinatown           7.9   \n",
              "797                                   The African Queen           7.4   \n",
              "\n",
              "                            genres       est  \n",
              "731           Comedy,Music,Romance  4.188874  \n",
              "284                    Drama,Crime  4.134203  \n",
              "1524                   Crime,Drama  4.102156  \n",
              "48            Drama,Crime,Thriller  4.084207  \n",
              "2401                  Comedy,Drama  4.066669  \n",
              "631               Drama,Comedy,War  4.064242  \n",
              "1641           Documentary,History  4.059332  \n",
              "740               Mystery,Thriller  4.056457  \n",
              "1023  Crime,Drama,Mystery,Thriller  4.053647  \n",
              "797          Adventure,War,Romance  4.040143  "
            ]
          },
          "metadata": {},
          "output_type": "display_data"
        },
        {
          "data": {
            "text/html": [
              "\n",
              "  <div id=\"df-fde89b2f-87b8-41a6-92b4-301e84aaed27\">\n",
              "    <div class=\"colab-df-container\">\n",
              "      <div>\n",
              "<style scoped>\n",
              "    .dataframe tbody tr th:only-of-type {\n",
              "        vertical-align: middle;\n",
              "    }\n",
              "\n",
              "    .dataframe tbody tr th {\n",
              "        vertical-align: top;\n",
              "    }\n",
              "\n",
              "    .dataframe thead th {\n",
              "        text-align: right;\n",
              "    }\n",
              "</style>\n",
              "<table border=\"1\" class=\"dataframe\">\n",
              "  <thead>\n",
              "    <tr style=\"text-align: right;\">\n",
              "      <th></th>\n",
              "      <th>title</th>\n",
              "      <th>vote_average</th>\n",
              "      <th>genres</th>\n",
              "      <th>est</th>\n",
              "    </tr>\n",
              "  </thead>\n",
              "  <tbody>\n",
              "    <tr>\n",
              "      <th>990</th>\n",
              "      <td>Ran</td>\n",
              "      <td>7.9</td>\n",
              "      <td>Action,Drama,History</td>\n",
              "      <td>4.226229</td>\n",
              "    </tr>\n",
              "    <tr>\n",
              "      <th>128</th>\n",
              "      <td>Amateur</td>\n",
              "      <td>6.5</td>\n",
              "      <td>Crime,Comedy,Drama,Thriller</td>\n",
              "      <td>4.200256</td>\n",
              "    </tr>\n",
              "    <tr>\n",
              "      <th>7786</th>\n",
              "      <td>The Play House</td>\n",
              "      <td>6.9</td>\n",
              "      <td>Comedy,Fantasy</td>\n",
              "      <td>4.170198</td>\n",
              "    </tr>\n",
              "    <tr>\n",
              "      <th>5714</th>\n",
              "      <td>Love Me If You Dare</td>\n",
              "      <td>7.4</td>\n",
              "      <td>Drama,Comedy,Romance</td>\n",
              "      <td>4.160563</td>\n",
              "    </tr>\n",
              "    <tr>\n",
              "      <th>6759</th>\n",
              "      <td>21 Up</td>\n",
              "      <td>7.9</td>\n",
              "      <td>Documentary,Foreign</td>\n",
              "      <td>4.158667</td>\n",
              "    </tr>\n",
              "    <tr>\n",
              "      <th>2362</th>\n",
              "      <td>Drunken Master</td>\n",
              "      <td>7.2</td>\n",
              "      <td>Action,Comedy</td>\n",
              "      <td>4.157471</td>\n",
              "    </tr>\n",
              "    <tr>\n",
              "      <th>1524</th>\n",
              "      <td>On the Waterfront</td>\n",
              "      <td>8.0</td>\n",
              "      <td>Crime,Drama</td>\n",
              "      <td>4.152123</td>\n",
              "    </tr>\n",
              "    <tr>\n",
              "      <th>2457</th>\n",
              "      <td>A Face in the Crowd</td>\n",
              "      <td>7.4</td>\n",
              "      <td>Drama</td>\n",
              "      <td>4.149054</td>\n",
              "    </tr>\n",
              "    <tr>\n",
              "      <th>5938</th>\n",
              "      <td>Gummo</td>\n",
              "      <td>6.5</td>\n",
              "      <td>Drama</td>\n",
              "      <td>4.142975</td>\n",
              "    </tr>\n",
              "    <tr>\n",
              "      <th>7500</th>\n",
              "      <td>Hachi: A Dog's Tale</td>\n",
              "      <td>7.7</td>\n",
              "      <td>Drama,Family</td>\n",
              "      <td>4.142930</td>\n",
              "    </tr>\n",
              "  </tbody>\n",
              "</table>\n",
              "</div>\n",
              "      <button class=\"colab-df-convert\" onclick=\"convertToInteractive('df-fde89b2f-87b8-41a6-92b4-301e84aaed27')\"\n",
              "              title=\"Convert this dataframe to an interactive table.\"\n",
              "              style=\"display:none;\">\n",
              "        \n",
              "  <svg xmlns=\"http://www.w3.org/2000/svg\" height=\"24px\"viewBox=\"0 0 24 24\"\n",
              "       width=\"24px\">\n",
              "    <path d=\"M0 0h24v24H0V0z\" fill=\"none\"/>\n",
              "    <path d=\"M18.56 5.44l.94 2.06.94-2.06 2.06-.94-2.06-.94-.94-2.06-.94 2.06-2.06.94zm-11 1L8.5 8.5l.94-2.06 2.06-.94-2.06-.94L8.5 2.5l-.94 2.06-2.06.94zm10 10l.94 2.06.94-2.06 2.06-.94-2.06-.94-.94-2.06-.94 2.06-2.06.94z\"/><path d=\"M17.41 7.96l-1.37-1.37c-.4-.4-.92-.59-1.43-.59-.52 0-1.04.2-1.43.59L10.3 9.45l-7.72 7.72c-.78.78-.78 2.05 0 2.83L4 21.41c.39.39.9.59 1.41.59.51 0 1.02-.2 1.41-.59l7.78-7.78 2.81-2.81c.8-.78.8-2.07 0-2.86zM5.41 20L4 18.59l7.72-7.72 1.47 1.35L5.41 20z\"/>\n",
              "  </svg>\n",
              "      </button>\n",
              "      \n",
              "  <style>\n",
              "    .colab-df-container {\n",
              "      display:flex;\n",
              "      flex-wrap:wrap;\n",
              "      gap: 12px;\n",
              "    }\n",
              "\n",
              "    .colab-df-convert {\n",
              "      background-color: #E8F0FE;\n",
              "      border: none;\n",
              "      border-radius: 50%;\n",
              "      cursor: pointer;\n",
              "      display: none;\n",
              "      fill: #1967D2;\n",
              "      height: 32px;\n",
              "      padding: 0 0 0 0;\n",
              "      width: 32px;\n",
              "    }\n",
              "\n",
              "    .colab-df-convert:hover {\n",
              "      background-color: #E2EBFA;\n",
              "      box-shadow: 0px 1px 2px rgba(60, 64, 67, 0.3), 0px 1px 3px 1px rgba(60, 64, 67, 0.15);\n",
              "      fill: #174EA6;\n",
              "    }\n",
              "\n",
              "    [theme=dark] .colab-df-convert {\n",
              "      background-color: #3B4455;\n",
              "      fill: #D2E3FC;\n",
              "    }\n",
              "\n",
              "    [theme=dark] .colab-df-convert:hover {\n",
              "      background-color: #434B5C;\n",
              "      box-shadow: 0px 1px 3px 1px rgba(0, 0, 0, 0.15);\n",
              "      filter: drop-shadow(0px 1px 2px rgba(0, 0, 0, 0.3));\n",
              "      fill: #FFFFFF;\n",
              "    }\n",
              "  </style>\n",
              "\n",
              "      <script>\n",
              "        const buttonEl =\n",
              "          document.querySelector('#df-fde89b2f-87b8-41a6-92b4-301e84aaed27 button.colab-df-convert');\n",
              "        buttonEl.style.display =\n",
              "          google.colab.kernel.accessAllowed ? 'block' : 'none';\n",
              "\n",
              "        async function convertToInteractive(key) {\n",
              "          const element = document.querySelector('#df-fde89b2f-87b8-41a6-92b4-301e84aaed27');\n",
              "          const dataTable =\n",
              "            await google.colab.kernel.invokeFunction('convertToInteractive',\n",
              "                                                     [key], {});\n",
              "          if (!dataTable) return;\n",
              "\n",
              "          const docLinkHtml = 'Like what you see? Visit the ' +\n",
              "            '<a target=\"_blank\" href=https://colab.research.google.com/notebooks/data_table.ipynb>data table notebook</a>'\n",
              "            + ' to learn more about interactive tables.';\n",
              "          element.innerHTML = '';\n",
              "          dataTable['output_type'] = 'display_data';\n",
              "          await google.colab.output.renderOutput(dataTable, element);\n",
              "          const docLink = document.createElement('div');\n",
              "          docLink.innerHTML = docLinkHtml;\n",
              "          element.appendChild(docLink);\n",
              "        }\n",
              "      </script>\n",
              "    </div>\n",
              "  </div>\n",
              "  "
            ],
            "text/plain": [
              "                    title  vote_average                       genres       est\n",
              "990                   Ran           7.9         Action,Drama,History  4.226229\n",
              "128               Amateur           6.5  Crime,Comedy,Drama,Thriller  4.200256\n",
              "7786       The Play House           6.9               Comedy,Fantasy  4.170198\n",
              "5714  Love Me If You Dare           7.4         Drama,Comedy,Romance  4.160563\n",
              "6759                21 Up           7.9          Documentary,Foreign  4.158667\n",
              "2362       Drunken Master           7.2                Action,Comedy  4.157471\n",
              "1524    On the Waterfront           8.0                  Crime,Drama  4.152123\n",
              "2457  A Face in the Crowd           7.4                        Drama  4.149054\n",
              "5938                Gummo           6.5                        Drama  4.142975\n",
              "7500  Hachi: A Dog's Tale           7.7                 Drama,Family  4.142930"
            ]
          },
          "metadata": {},
          "output_type": "display_data"
        },
        {
          "data": {
            "text/html": [
              "\n",
              "  <div id=\"df-5866ccb4-0b40-4d5d-aa74-7f3547150ae6\">\n",
              "    <div class=\"colab-df-container\">\n",
              "      <div>\n",
              "<style scoped>\n",
              "    .dataframe tbody tr th:only-of-type {\n",
              "        vertical-align: middle;\n",
              "    }\n",
              "\n",
              "    .dataframe tbody tr th {\n",
              "        vertical-align: top;\n",
              "    }\n",
              "\n",
              "    .dataframe thead th {\n",
              "        text-align: right;\n",
              "    }\n",
              "</style>\n",
              "<table border=\"1\" class=\"dataframe\">\n",
              "  <thead>\n",
              "    <tr style=\"text-align: right;\">\n",
              "      <th></th>\n",
              "      <th>title</th>\n",
              "      <th>vote_average</th>\n",
              "      <th>genres</th>\n",
              "      <th>est</th>\n",
              "    </tr>\n",
              "  </thead>\n",
              "  <tbody>\n",
              "    <tr>\n",
              "      <th>627</th>\n",
              "      <td>A Close Shave</td>\n",
              "      <td>7.5</td>\n",
              "      <td>Family,Animation,Comedy</td>\n",
              "      <td>4.032144</td>\n",
              "    </tr>\n",
              "    <tr>\n",
              "      <th>2055</th>\n",
              "      <td>Lock, Stock and Two Smoking Barrels</td>\n",
              "      <td>7.5</td>\n",
              "      <td>Comedy,Crime</td>\n",
              "      <td>4.003855</td>\n",
              "    </tr>\n",
              "    <tr>\n",
              "      <th>284</th>\n",
              "      <td>The Shawshank Redemption</td>\n",
              "      <td>8.5</td>\n",
              "      <td>Drama,Crime</td>\n",
              "      <td>4.003024</td>\n",
              "    </tr>\n",
              "    <tr>\n",
              "      <th>796</th>\n",
              "      <td>Night of the Living Dead</td>\n",
              "      <td>7.5</td>\n",
              "      <td>Horror</td>\n",
              "      <td>4.000776</td>\n",
              "    </tr>\n",
              "    <tr>\n",
              "      <th>2454</th>\n",
              "      <td>Mister Roberts</td>\n",
              "      <td>7.3</td>\n",
              "      <td>Comedy,Drama,Family,War</td>\n",
              "      <td>3.978489</td>\n",
              "    </tr>\n",
              "    <tr>\n",
              "      <th>1047</th>\n",
              "      <td>Cool Hand Luke</td>\n",
              "      <td>7.7</td>\n",
              "      <td>Crime,Drama</td>\n",
              "      <td>3.963264</td>\n",
              "    </tr>\n",
              "    <tr>\n",
              "      <th>757</th>\n",
              "      <td>All About Eve</td>\n",
              "      <td>8.0</td>\n",
              "      <td>Drama</td>\n",
              "      <td>3.956085</td>\n",
              "    </tr>\n",
              "    <tr>\n",
              "      <th>2780</th>\n",
              "      <td>Modern Times</td>\n",
              "      <td>8.1</td>\n",
              "      <td>Drama,Comedy</td>\n",
              "      <td>3.955984</td>\n",
              "    </tr>\n",
              "    <tr>\n",
              "      <th>2304</th>\n",
              "      <td>American Beauty</td>\n",
              "      <td>7.9</td>\n",
              "      <td>Drama</td>\n",
              "      <td>3.939633</td>\n",
              "    </tr>\n",
              "    <tr>\n",
              "      <th>2171</th>\n",
              "      <td>Run Lola Run</td>\n",
              "      <td>7.2</td>\n",
              "      <td>Action,Drama,Thriller</td>\n",
              "      <td>3.923132</td>\n",
              "    </tr>\n",
              "  </tbody>\n",
              "</table>\n",
              "</div>\n",
              "      <button class=\"colab-df-convert\" onclick=\"convertToInteractive('df-5866ccb4-0b40-4d5d-aa74-7f3547150ae6')\"\n",
              "              title=\"Convert this dataframe to an interactive table.\"\n",
              "              style=\"display:none;\">\n",
              "        \n",
              "  <svg xmlns=\"http://www.w3.org/2000/svg\" height=\"24px\"viewBox=\"0 0 24 24\"\n",
              "       width=\"24px\">\n",
              "    <path d=\"M0 0h24v24H0V0z\" fill=\"none\"/>\n",
              "    <path d=\"M18.56 5.44l.94 2.06.94-2.06 2.06-.94-2.06-.94-.94-2.06-.94 2.06-2.06.94zm-11 1L8.5 8.5l.94-2.06 2.06-.94-2.06-.94L8.5 2.5l-.94 2.06-2.06.94zm10 10l.94 2.06.94-2.06 2.06-.94-2.06-.94-.94-2.06-.94 2.06-2.06.94z\"/><path d=\"M17.41 7.96l-1.37-1.37c-.4-.4-.92-.59-1.43-.59-.52 0-1.04.2-1.43.59L10.3 9.45l-7.72 7.72c-.78.78-.78 2.05 0 2.83L4 21.41c.39.39.9.59 1.41.59.51 0 1.02-.2 1.41-.59l7.78-7.78 2.81-2.81c.8-.78.8-2.07 0-2.86zM5.41 20L4 18.59l7.72-7.72 1.47 1.35L5.41 20z\"/>\n",
              "  </svg>\n",
              "      </button>\n",
              "      \n",
              "  <style>\n",
              "    .colab-df-container {\n",
              "      display:flex;\n",
              "      flex-wrap:wrap;\n",
              "      gap: 12px;\n",
              "    }\n",
              "\n",
              "    .colab-df-convert {\n",
              "      background-color: #E8F0FE;\n",
              "      border: none;\n",
              "      border-radius: 50%;\n",
              "      cursor: pointer;\n",
              "      display: none;\n",
              "      fill: #1967D2;\n",
              "      height: 32px;\n",
              "      padding: 0 0 0 0;\n",
              "      width: 32px;\n",
              "    }\n",
              "\n",
              "    .colab-df-convert:hover {\n",
              "      background-color: #E2EBFA;\n",
              "      box-shadow: 0px 1px 2px rgba(60, 64, 67, 0.3), 0px 1px 3px 1px rgba(60, 64, 67, 0.15);\n",
              "      fill: #174EA6;\n",
              "    }\n",
              "\n",
              "    [theme=dark] .colab-df-convert {\n",
              "      background-color: #3B4455;\n",
              "      fill: #D2E3FC;\n",
              "    }\n",
              "\n",
              "    [theme=dark] .colab-df-convert:hover {\n",
              "      background-color: #434B5C;\n",
              "      box-shadow: 0px 1px 3px 1px rgba(0, 0, 0, 0.15);\n",
              "      filter: drop-shadow(0px 1px 2px rgba(0, 0, 0, 0.3));\n",
              "      fill: #FFFFFF;\n",
              "    }\n",
              "  </style>\n",
              "\n",
              "      <script>\n",
              "        const buttonEl =\n",
              "          document.querySelector('#df-5866ccb4-0b40-4d5d-aa74-7f3547150ae6 button.colab-df-convert');\n",
              "        buttonEl.style.display =\n",
              "          google.colab.kernel.accessAllowed ? 'block' : 'none';\n",
              "\n",
              "        async function convertToInteractive(key) {\n",
              "          const element = document.querySelector('#df-5866ccb4-0b40-4d5d-aa74-7f3547150ae6');\n",
              "          const dataTable =\n",
              "            await google.colab.kernel.invokeFunction('convertToInteractive',\n",
              "                                                     [key], {});\n",
              "          if (!dataTable) return;\n",
              "\n",
              "          const docLinkHtml = 'Like what you see? Visit the ' +\n",
              "            '<a target=\"_blank\" href=https://colab.research.google.com/notebooks/data_table.ipynb>data table notebook</a>'\n",
              "            + ' to learn more about interactive tables.';\n",
              "          element.innerHTML = '';\n",
              "          dataTable['output_type'] = 'display_data';\n",
              "          await google.colab.output.renderOutput(dataTable, element);\n",
              "          const docLink = document.createElement('div');\n",
              "          docLink.innerHTML = docLinkHtml;\n",
              "          element.appendChild(docLink);\n",
              "        }\n",
              "      </script>\n",
              "    </div>\n",
              "  </div>\n",
              "  "
            ],
            "text/plain": [
              "                                    title  vote_average  \\\n",
              "627                         A Close Shave           7.5   \n",
              "2055  Lock, Stock and Two Smoking Barrels           7.5   \n",
              "284              The Shawshank Redemption           8.5   \n",
              "796              Night of the Living Dead           7.5   \n",
              "2454                       Mister Roberts           7.3   \n",
              "1047                       Cool Hand Luke           7.7   \n",
              "757                         All About Eve           8.0   \n",
              "2780                         Modern Times           8.1   \n",
              "2304                      American Beauty           7.9   \n",
              "2171                         Run Lola Run           7.2   \n",
              "\n",
              "                       genres       est  \n",
              "627   Family,Animation,Comedy  4.032144  \n",
              "2055             Comedy,Crime  4.003855  \n",
              "284               Drama,Crime  4.003024  \n",
              "796                    Horror  4.000776  \n",
              "2454  Comedy,Drama,Family,War  3.978489  \n",
              "1047              Crime,Drama  3.963264  \n",
              "757                     Drama  3.956085  \n",
              "2780             Drama,Comedy  3.955984  \n",
              "2304                    Drama  3.939633  \n",
              "2171    Action,Drama,Thriller  3.923132  "
            ]
          },
          "metadata": {},
          "output_type": "display_data"
        }
      ],
      "source": [
        "display(recomm_svd(25,svd))\n",
        "display(recomm_svd(25,svdtuned))\n",
        "display(recomm_svd(25,svdpp))"
      ]
    },
    {
      "cell_type": "code",
      "execution_count": null,
      "metadata": {
        "colab": {
          "base_uri": "https://localhost:8080/",
          "height": 121
        },
        "id": "itH6aMW1MZzL",
        "outputId": "d7825c3b-548b-4076-c48b-d4111de68f82"
      },
      "outputs": [
        {
          "data": {
            "text/plain": [
              "{'topN': 5, 'Precision': 0.9076005961251866, 'Recall': 0.4220744557578549}"
            ]
          },
          "metadata": {},
          "output_type": "display_data"
        },
        {
          "data": {
            "text/plain": [
              "{'topN': 6, 'Precision': 0.9060606060606055, 'Recall': 0.47232942966160785}"
            ]
          },
          "metadata": {},
          "output_type": "display_data"
        },
        {
          "data": {
            "text/plain": [
              "{'topN': 7, 'Precision': 0.9002767724079185, 'Recall': 0.5110615132847351}"
            ]
          },
          "metadata": {},
          "output_type": "display_data"
        },
        {
          "data": {
            "text/plain": [
              "{'topN': 8, 'Precision': 0.8974558228656585, 'Recall': 0.5443250583419225}"
            ]
          },
          "metadata": {},
          "output_type": "display_data"
        },
        {
          "data": {
            "text/plain": [
              "{'topN': 9, 'Precision': 0.8955929316585065, 'Recall': 0.573308432483929}"
            ]
          },
          "metadata": {},
          "output_type": "display_data"
        },
        {
          "data": {
            "text/plain": [
              "{'topN': 10, 'Precision': 0.8945497125824985, 'Recall': 0.5992537983194555}"
            ]
          },
          "metadata": {},
          "output_type": "display_data"
        }
      ],
      "source": [
        "#Funzione per calcolare precision@k e recall@k\n",
        "def precision_recall_at_k(predictions, k=10, threshold=3.5):\n",
        "\n",
        "    user_est_true = defaultdict(list)\n",
        "    for uid, _, true_r, est, _ in predictions:\n",
        "        user_est_true[uid].append((est, true_r))\n",
        "\n",
        "    precisions = dict()\n",
        "    recalls = dict()\n",
        "    for uid, user_ratings in user_est_true.items():\n",
        "        user_ratings.sort(key=lambda x: x[0], reverse=True)\n",
        "        n_rel = sum((true_r >= threshold) for (_, true_r) in user_ratings)\n",
        "        n_rec_k = sum((est >= threshold) for (est, _) in user_ratings[:k])\n",
        "        n_rel_and_rec_k = sum(((true_r >= threshold) and (est >= threshold)) for (est, true_r) in user_ratings[:k])\n",
        "\n",
        "        precisions[uid] = n_rel_and_rec_k / n_rec_k if n_rec_k != 0 else 0\n",
        "\n",
        "        recalls[uid] = n_rel_and_rec_k / n_rel if n_rel != 0 else 0\n",
        "\n",
        "    return precisions, recalls\n",
        "    \n"
      ]
    },
    {
      "cell_type": "code",
      "execution_count": null,
      "metadata": {
        "id": "qdkZeSCKm187"
      },
      "outputs": [],
      "source": [
        "#precision e recall di SVDpp\n",
        "precision_recall_at_n = []\n",
        "rating_threshold=3\n",
        "for topn in range(2,20):\n",
        " precision, recall = precision_recall_at_k(predictions,topn,rating_threshold)\n",
        " precision_at_n = sum(prec for prec in precision.values()) / len(precision)\n",
        " recall_at_n = sum(rec for rec in recall.values()) / len(recall)\n",
        " precision_recall_at_n.append({'topN' : topn, 'Precision' : precision_at_n, 'Recall': recall_at_n})\n",
        "for n in range(3,9):\n",
        " display(precision_recall_at_n[n])"
      ]
    },
    {
      "cell_type": "code",
      "execution_count": null,
      "metadata": {
        "colab": {
          "base_uri": "https://localhost:8080/",
          "height": 121
        },
        "id": "OlCetftukIg3",
        "outputId": "898c335e-c528-4299-b8b2-90cd9c660e83"
      },
      "outputs": [
        {
          "data": {
            "text/plain": [
              "{'topN': 5, 'Precision': 0.9105812220566324, 'Recall': 0.3570694238716743}"
            ]
          },
          "metadata": {},
          "output_type": "display_data"
        },
        {
          "data": {
            "text/plain": [
              "{'topN': 6, 'Precision': 0.9083954297069047, 'Recall': 0.404537763292297}"
            ]
          },
          "metadata": {},
          "output_type": "display_data"
        },
        {
          "data": {
            "text/plain": [
              "{'topN': 7, 'Precision': 0.9037825562415712, 'Recall': 0.44615727903288066}"
            ]
          },
          "metadata": {},
          "output_type": "display_data"
        },
        {
          "data": {
            "text/plain": [
              "{'topN': 8, 'Precision': 0.9025317578596265, 'Recall': 0.4840273849346416}"
            ]
          },
          "metadata": {},
          "output_type": "display_data"
        },
        {
          "data": {
            "text/plain": [
              "{'topN': 9, 'Precision': 0.9007723606084276, 'Recall': 0.5176989048813796}"
            ]
          },
          "metadata": {},
          "output_type": "display_data"
        },
        {
          "data": {
            "text/plain": [
              "{'topN': 10, 'Precision': 0.8989508669836528, 'Recall': 0.5460078082864926}"
            ]
          },
          "metadata": {},
          "output_type": "display_data"
        }
      ],
      "source": [
        "#precison e recall SVD normale\n",
        "precision_recall_at_n = []\n",
        "rating_threshold=3\n",
        "for topn in range(2,20):\n",
        " precision, recall = precision_recall_at_k(prediction,topn,rating_threshold)\n",
        " precision_at_n = sum(prec for prec in precision.values()) / len(precision)\n",
        " recall_at_n = sum(rec for rec in recall.values()) / len(recall)\n",
        " precision_recall_at_n.append({'topN' : topn, 'Precision' : precision_at_n, 'Recall': recall_at_n})\n",
        "for n in range(3,9):\n",
        " display(precision_recall_at_n[n])"
      ]
    },
    {
      "cell_type": "code",
      "execution_count": null,
      "metadata": {
        "colab": {
          "base_uri": "https://localhost:8080/",
          "height": 121
        },
        "id": "tWEh8Pf7koUS",
        "outputId": "03281f66-d1dd-4f25-9f35-254357328dbb"
      },
      "outputs": [
        {
          "data": {
            "text/plain": [
              "{'topN': 5, 'Precision': 0.9167163437655242, 'Recall': 0.35861547052238885}"
            ]
          },
          "metadata": {},
          "output_type": "display_data"
        },
        {
          "data": {
            "text/plain": [
              "{'topN': 6, 'Precision': 0.913636363636363, 'Recall': 0.40812009698465607}"
            ]
          },
          "metadata": {},
          "output_type": "display_data"
        },
        {
          "data": {
            "text/plain": [
              "{'topN': 7, 'Precision': 0.909236392023276, 'Recall': 0.45035385137643785}"
            ]
          },
          "metadata": {},
          "output_type": "display_data"
        },
        {
          "data": {
            "text/plain": [
              "{'topN': 8, 'Precision': 0.9080388191043922, 'Recall': 0.4882789241110791}"
            ]
          },
          "metadata": {},
          "output_type": "display_data"
        },
        {
          "data": {
            "text/plain": [
              "{'topN': 9, 'Precision': 0.9077697348189165, 'Recall': 0.5216717440149471}"
            ]
          },
          "metadata": {},
          "output_type": "display_data"
        },
        {
          "data": {
            "text/plain": [
              "{'topN': 10, 'Precision': 0.9064781302486208, 'Recall': 0.5499766114020529}"
            ]
          },
          "metadata": {},
          "output_type": "display_data"
        }
      ],
      "source": [
        "#precison e recall SVD con i miglior hyperparametri\n",
        "precision_recall_at_n = []\n",
        "rating_threshold=3\n",
        "for topn in range(2,20):\n",
        " precision, recall = precision_recall_at_k(predictio,topn,rating_threshold)\n",
        " precision_at_n = sum(prec for prec in precision.values()) / len(precision)\n",
        " recall_at_n = sum(rec for rec in recall.values()) / len(recall)\n",
        " precision_recall_at_n.append({'topN' : topn, 'Precision' : precision_at_n, 'Recall': recall_at_n})\n",
        "for n in range(3,9):\n",
        " display(precision_recall_at_n[n])"
      ]
    }
  ],
  "metadata": {
    "accelerator": "GPU",
    "colab": {
      "collapsed_sections": [],
      "provenance": []
    },
    "kernelspec": {
      "display_name": "Python 3.9.7 ('base')",
      "language": "python",
      "name": "python3"
    },
    "language_info": {
      "codemirror_mode": {
        "name": "ipython",
        "version": 3
      },
      "file_extension": ".py",
      "mimetype": "text/x-python",
      "name": "python",
      "nbconvert_exporter": "python",
      "pygments_lexer": "ipython3",
      "version": "3.9.7"
    },
    "vscode": {
      "interpreter": {
        "hash": "e03b612d84ba21ce95ed447e81b3062e1eb99b56c6d885cdab4aaa12f1b8e240"
      }
    }
  },
  "nbformat": 4,
  "nbformat_minor": 0
}
